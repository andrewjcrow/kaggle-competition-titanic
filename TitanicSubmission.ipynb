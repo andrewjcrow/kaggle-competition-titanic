{
 "cells": [
  {
   "cell_type": "markdown",
   "id": "925d451c-c57c-4c14-ac4f-ec61ce0c96ff",
   "metadata": {},
   "source": [
    "# IMPORTANT"
   ]
  },
  {
   "cell_type": "markdown",
   "id": "ca9ef32c-aa17-41d0-b473-ab4a8fd55684",
   "metadata": {},
   "source": [
    "This notebook is still a WIP. The farther down you read, the less complete the code gets"
   ]
  },
  {
   "cell_type": "markdown",
   "id": "449101c8-643a-46e3-8e9a-c627f47f466f",
   "metadata": {},
   "source": [
    "# Imports"
   ]
  },
  {
   "cell_type": "code",
   "execution_count": 1,
   "id": "2d24fec8-322f-4d3a-919f-4a20e2360487",
   "metadata": {},
   "outputs": [],
   "source": [
    "import torch\n",
    "import torch.nn as nn\n",
    "import torch.nn.functional as F\n",
    "from torch.utils.data import Dataset, DataLoader\n",
    "\n",
    "from pathlib import Path\n",
    "\n",
    "import pandas as pd\n",
    "import numpy as np\n",
    "import scipy as sp\n",
    "\n",
    "from matplotlib import pyplot as plt\n",
    "\n",
    "from sklearn.model_selection import train_test_split\n",
    "from sklearn.utils import resample\n",
    "from sklearn.metrics import precision_recall_fscore_support"
   ]
  },
  {
   "cell_type": "markdown",
   "id": "2f842f64-bef7-485f-80a6-7c5c497f2c18",
   "metadata": {},
   "source": [
    "# Loading Data"
   ]
  },
  {
   "cell_type": "code",
   "execution_count": 2,
   "id": "b96f65a7-ea03-4961-ba57-9e0c0852eea4",
   "metadata": {},
   "outputs": [],
   "source": [
    "data_df = pd.read_csv(Path('train.csv'))\n",
    "training_data = pd.read_csv(Path('test.csv'))"
   ]
  },
  {
   "cell_type": "code",
   "execution_count": 3,
   "id": "12124621-2cc4-41fb-8bdc-969d34373124",
   "metadata": {},
   "outputs": [
    {
     "data": {
      "text/plain": [
       "Index(['PassengerId', 'Survived', 'Pclass', 'Name', 'Sex', 'Age', 'SibSp',\n",
       "       'Parch', 'Ticket', 'Fare', 'Cabin', 'Embarked'],\n",
       "      dtype='object')"
      ]
     },
     "execution_count": 3,
     "metadata": {},
     "output_type": "execute_result"
    }
   ],
   "source": [
    "data_df.columns"
   ]
  },
  {
   "cell_type": "markdown",
   "id": "209239f5-6214-4d71-8505-c088659b58aa",
   "metadata": {},
   "source": [
    "# Feature Development & Transformation"
   ]
  },
  {
   "cell_type": "markdown",
   "id": "1aa1963f-c6b9-4586-905a-ae8df19132ea",
   "metadata": {},
   "source": [
    "## Cabin Letter"
   ]
  },
  {
   "cell_type": "markdown",
   "id": "e014a3de-8c66-4a24-94ba-c10473965b06",
   "metadata": {},
   "source": [
    "Cabin Letter seems to have an observable impact on survival, particularly in Cabin C and F. See pivot table Below. Running a Chi-Squared Test appears to back this as well."
   ]
  },
  {
   "cell_type": "code",
   "execution_count": 4,
   "id": "c20b2069-c652-4702-9c59-d82157c400f0",
   "metadata": {},
   "outputs": [],
   "source": [
    "data_df['CabinLetter'] = data_df['Cabin'].str[0]"
   ]
  },
  {
   "cell_type": "code",
   "execution_count": 5,
   "id": "316d7997-cce8-4320-a0b7-8317c512f175",
   "metadata": {},
   "outputs": [
    {
     "data": {
      "text/html": [
       "<div>\n",
       "<style scoped>\n",
       "    .dataframe tbody tr th:only-of-type {\n",
       "        vertical-align: middle;\n",
       "    }\n",
       "\n",
       "    .dataframe tbody tr th {\n",
       "        vertical-align: top;\n",
       "    }\n",
       "\n",
       "    .dataframe thead th {\n",
       "        text-align: right;\n",
       "    }\n",
       "</style>\n",
       "<table border=\"1\" class=\"dataframe\">\n",
       "  <thead>\n",
       "    <tr style=\"text-align: right;\">\n",
       "      <th>Survived</th>\n",
       "      <th>0</th>\n",
       "      <th>1</th>\n",
       "    </tr>\n",
       "    <tr>\n",
       "      <th>CabinLetter</th>\n",
       "      <th></th>\n",
       "      <th></th>\n",
       "    </tr>\n",
       "  </thead>\n",
       "  <tbody>\n",
       "    <tr>\n",
       "      <th>A</th>\n",
       "      <td>0.014572</td>\n",
       "      <td>0.020468</td>\n",
       "    </tr>\n",
       "    <tr>\n",
       "      <th>B</th>\n",
       "      <td>0.021858</td>\n",
       "      <td>0.102339</td>\n",
       "    </tr>\n",
       "    <tr>\n",
       "      <th>C</th>\n",
       "      <td>0.043716</td>\n",
       "      <td>0.102339</td>\n",
       "    </tr>\n",
       "    <tr>\n",
       "      <th>D</th>\n",
       "      <td>0.014572</td>\n",
       "      <td>0.073099</td>\n",
       "    </tr>\n",
       "    <tr>\n",
       "      <th>E</th>\n",
       "      <td>0.014572</td>\n",
       "      <td>0.070175</td>\n",
       "    </tr>\n",
       "    <tr>\n",
       "      <th>F</th>\n",
       "      <td>0.009107</td>\n",
       "      <td>0.023392</td>\n",
       "    </tr>\n",
       "    <tr>\n",
       "      <th>G</th>\n",
       "      <td>0.003643</td>\n",
       "      <td>0.005848</td>\n",
       "    </tr>\n",
       "    <tr>\n",
       "      <th>T</th>\n",
       "      <td>0.001821</td>\n",
       "      <td>0.000000</td>\n",
       "    </tr>\n",
       "    <tr>\n",
       "      <th>NaN</th>\n",
       "      <td>0.876138</td>\n",
       "      <td>0.602339</td>\n",
       "    </tr>\n",
       "  </tbody>\n",
       "</table>\n",
       "</div>"
      ],
      "text/plain": [
       "Survived            0         1\n",
       "CabinLetter                    \n",
       "A            0.014572  0.020468\n",
       "B            0.021858  0.102339\n",
       "C            0.043716  0.102339\n",
       "D            0.014572  0.073099\n",
       "E            0.014572  0.070175\n",
       "F            0.009107  0.023392\n",
       "G            0.003643  0.005848\n",
       "T            0.001821  0.000000\n",
       "NaN          0.876138  0.602339"
      ]
     },
     "execution_count": 5,
     "metadata": {},
     "output_type": "execute_result"
    }
   ],
   "source": [
    "cabin_letter_pivot = pd.pivot_table(\n",
    "    data_df.groupby(\n",
    "        ['CabinLetter', 'Survived'], as_index=False, dropna=False\n",
    "    ).agg(COUNT=('PassengerId', 'count')),\n",
    "    values='COUNT',\n",
    "    index='CabinLetter',\n",
    "    columns='Survived',\n",
    "    dropna=False\n",
    ").fillna(0)\n",
    "\n",
    "cabin_letter_pivot / cabin_letter_pivot.sum()"
   ]
  },
  {
   "cell_type": "code",
   "execution_count": 6,
   "id": "ec3936b3-76b6-451d-bd49-74466b175fc5",
   "metadata": {},
   "outputs": [],
   "source": [
    "chi2_res = sp.stats.chi2_contingency(cabin_letter_pivot)"
   ]
  },
  {
   "cell_type": "code",
   "execution_count": 7,
   "id": "a26d2720-b9c3-4640-891a-e36f70ac11e2",
   "metadata": {},
   "outputs": [
    {
     "data": {
      "text/plain": [
       "(np.float64(99.16416061888009), np.float64(6.326020042314704e-18))"
      ]
     },
     "execution_count": 7,
     "metadata": {},
     "output_type": "execute_result"
    }
   ],
   "source": [
    "chi2_res.statistic, chi2_res.pvalue"
   ]
  },
  {
   "cell_type": "markdown",
   "id": "2ed8ddd3-3688-4f41-ace3-fbfc9d8a7991",
   "metadata": {},
   "source": [
    "# Fare Transformation"
   ]
  },
  {
   "cell_type": "markdown",
   "id": "7cc82bde-e058-4d1f-97a3-f89378968697",
   "metadata": {},
   "source": [
    "There appears to be a relationship between Survival and fare, with the passengers with higher fares more likely to survive. However, the fare's distribution does not appear to be normally distributed judging by the figures below."
   ]
  },
  {
   "cell_type": "code",
   "execution_count": 8,
   "id": "71870201-f7b3-4264-ab7e-c86d9a920baa",
   "metadata": {},
   "outputs": [
    {
     "data": {
      "image/png": "[encoded data removed]",
      "text/plain": [
       "<Figure size 1000x400 with 2 Axes>"
      ]
     },
     "metadata": {},
     "output_type": "display_data"
    }
   ],
   "source": [
    "fig, (ax1, ax2) = plt.subplots(1, 2, figsize=(10, 4))\n",
    "\n",
    "ax1.boxplot(\n",
    "    (\n",
    "        data_df.loc[data_df['Survived'] == 0, 'Fare'],\n",
    "        data_df.loc[data_df['Survived'] == 1, 'Fare']\n",
    "    ),\n",
    "    tick_labels = ('Survived=0', 'Survived=1')\n",
    ")\n",
    "ax1.set_title('Fare Boxplot')\n",
    "\n",
    "ax2.hist(\n",
    "    data_df.loc[data_df['Survived'] == 0, 'Fare'],\n",
    "    alpha=0.7,\n",
    "    density=True\n",
    ")\n",
    "ax2.hist(\n",
    "    data_df.loc[data_df['Survived'] == 1, 'Fare'],\n",
    "    alpha=0.7,\n",
    "    density=True\n",
    ")\n",
    "ax2.set_title('Fare Histogram')\n",
    "ax2.legend(('Survived=0', 'Survived=1'))\n",
    "\n",
    "plt.show()"
   ]
  },
  {
   "cell_type": "markdown",
   "id": "76d90f19-e1f7-45ff-860e-d96b1d7f643c",
   "metadata": {},
   "source": [
    "Although not perfect, log transforming Fare (and leaving all 0 values as 0) will reduce the feature's measured variance and brings it's scale closer to other features. This will help with model stability and convergence."
   ]
  },
  {
   "cell_type": "code",
   "execution_count": 9,
   "id": "6f0db5ea-8586-4d6e-b49c-9cbb4a002882",
   "metadata": {},
   "outputs": [],
   "source": [
    "fare_0_mask = data_df['Fare'] == 0\n",
    "data_df['FareLog2'] = 0.0\n",
    "data_df.loc[~fare_0_mask, 'FareLog2'] = np.log2(data_df.loc[~fare_0_mask, 'Fare'])"
   ]
  },
  {
   "cell_type": "code",
   "execution_count": 10,
   "id": "a48b709d-0ddf-4f4a-976f-f8dae3428225",
   "metadata": {},
   "outputs": [
    {
     "data": {
      "image/png": "[encoded data removed]",
      "text/plain": [
       "<Figure size 1000x400 with 2 Axes>"
      ]
     },
     "metadata": {},
     "output_type": "display_data"
    }
   ],
   "source": [
    "fig, (ax1, ax2) = plt.subplots(1, 2, figsize=(10, 4))\n",
    "\n",
    "ax1.boxplot(\n",
    "    (\n",
    "        data_df.loc[data_df['Survived'] == 0, 'FareLog2'],\n",
    "        data_df.loc[data_df['Survived'] == 1, 'FareLog2']\n",
    "    ),\n",
    "    tick_labels = ('Survived=0', 'Survived=1')\n",
    ")\n",
    "ax1.set_title('FareLog2 Boxplot')\n",
    "\n",
    "ax2.hist(\n",
    "    data_df.loc[data_df['Survived'] == 0, 'FareLog2'],\n",
    "    alpha=0.7,\n",
    "    density=True\n",
    ")\n",
    "ax2.hist(\n",
    "    data_df.loc[data_df['Survived'] == 1, 'FareLog2'],\n",
    "    alpha=0.7,\n",
    "    density=True\n",
    ")\n",
    "ax2.set_title('FareLog2 Histogram')\n",
    "ax2.legend(('Survived=0', 'Survived=1'))\n",
    "\n",
    "plt.show()"
   ]
  },
  {
   "cell_type": "code",
   "execution_count": 11,
   "id": "a94c3910-fdf5-4fc8-9e84-f3906095a958",
   "metadata": {},
   "outputs": [],
   "source": [
    "def cat_expand(df, col_name):\n",
    "    \"\"\"\n",
    "    utility function for expanding categorical fields\n",
    "    \"\"\"\n",
    "    return pd.concat(\n",
    "        (\n",
    "            df, pd.get_dummies(df[col_name], prefix=col_name, dtype=int, dummy_na=True)\n",
    "        ), axis = 1\n",
    "    ).drop(columns=col_name)"
   ]
  },
  {
   "cell_type": "markdown",
   "id": "0e633d72-19e8-4fe0-be7a-55acf028fc78",
   "metadata": {},
   "source": [
    "Expanding categorical fields (CabinLetter, Embarked, Sex, and Pclass) to one-hot encodings"
   ]
  },
  {
   "cell_type": "code",
   "execution_count": 12,
   "id": "a2efad4f-b052-4cd8-aa48-c6ac51e57ce7",
   "metadata": {},
   "outputs": [],
   "source": [
    "data_df['CabinLetter'] = data_df['Cabin'].str[0]\n",
    "for col in ['CabinLetter', 'Embarked', 'Sex', 'Pclass']:\n",
    "    data_df = cat_expand(data_df, col)"
   ]
  },
  {
   "cell_type": "markdown",
   "id": "7267149a-3240-4afd-a027-0ecd29b323d0",
   "metadata": {},
   "source": [
    "Adding a Fare scaled to the median to compare log transforming against simply scaling fare by the measured median."
   ]
  },
  {
   "cell_type": "code",
   "execution_count": 31,
   "id": "eaf1b07c-938f-4ef8-8813-f6438533afc3",
   "metadata": {},
   "outputs": [
    {
     "data": {
      "text/plain": [
       "np.float64(14.4542)"
      ]
     },
     "execution_count": 31,
     "metadata": {},
     "output_type": "execute_result"
    }
   ],
   "source": [
    "median_fare = data_df['Fare'].median()\n",
    "median_fare"
   ]
  },
  {
   "cell_type": "code",
   "execution_count": 32,
   "id": "07befd8a-ae85-41b9-b586-fbf18f70a694",
   "metadata": {},
   "outputs": [],
   "source": [
    "data_df['FareMed'] = data_df['Fare'] / 14.4542"
   ]
  },
  {
   "cell_type": "markdown",
   "id": "15a29988-bfb3-4bee-b8c2-a42b5311624b",
   "metadata": {},
   "source": [
    "## Age"
   ]
  },
  {
   "cell_type": "markdown",
   "id": "a2a999fb-4a1a-4c17-b981-6d5621b81369",
   "metadata": {},
   "source": [
    "With the exception of infants, toddlers, and young children, there does not appear to be a huge difference with age across the 2 classes."
   ]
  },
  {
   "cell_type": "code",
   "execution_count": 13,
   "id": "04900464-e73b-4671-84a5-a374307ddaf2",
   "metadata": {},
   "outputs": [
    {
     "data": {
      "image/png": "[encoded data removed]",
      "text/plain": [
       "<Figure size 1000x400 with 2 Axes>"
      ]
     },
     "metadata": {},
     "output_type": "display_data"
    }
   ],
   "source": [
    "fig, (ax1, ax2) = plt.subplots(1, 2, figsize=(10, 4))\n",
    "\n",
    "ax1.boxplot(\n",
    "    (\n",
    "        data_df.loc[(data_df['Survived'] == 0) & (~data_df['Age'].isna()), 'Age'],\n",
    "        data_df.loc[(data_df['Survived'] == 1) & (~data_df['Age'].isna()), 'Age']\n",
    "    ),\n",
    "    tick_labels = ('Survived=0', 'Survived=1')\n",
    ")\n",
    "ax1.set_title('Boxplot Surival by Age')\n",
    "\n",
    "ax2.hist(\n",
    "    (\n",
    "        data_df.loc[(data_df['Survived'] == 0) & (~data_df['Age'].isna()), 'Age'],\n",
    "        data_df.loc[(data_df['Survived'] == 1) & (~data_df['Age'].isna()), 'Age']\n",
    "    ),\n",
    "    density=True,\n",
    ")\n",
    "ax2.legend(('Survived=0', 'Survived=1'))\n",
    "ax2.set_title('Histogram Surival by Age')\n",
    "plt.show()"
   ]
  },
  {
   "cell_type": "markdown",
   "id": "71ac7988-2af8-4f31-b35c-09dcd27260c9",
   "metadata": {},
   "source": [
    "Running an F-test shows a degree of signicance for age, but that group variance is mostly coming from the fact that most infants (Age between 0 and 1) in the sample survived. When controlling for infants, the group variance is not particularly significant."
   ]
  },
  {
   "cell_type": "code",
   "execution_count": 102,
   "id": "f62ef486-3404-4515-822b-ca5b51b100a2",
   "metadata": {},
   "outputs": [
    {
     "data": {
      "text/plain": [
       "F_onewayResult(statistic=np.float64(4.271194933815904), pvalue=np.float64(0.03912465401348333))"
      ]
     },
     "execution_count": 102,
     "metadata": {},
     "output_type": "execute_result"
    }
   ],
   "source": [
    "sp.stats.f_oneway(\n",
    "    data_df.loc[(data_df['Survived'] == 0) & (~data_df['Age'].isna()), 'Age'],\n",
    "    data_df.loc[(data_df['Survived'] == 1) & (~data_df['Age'].isna()), 'Age']\n",
    ")"
   ]
  },
  {
   "cell_type": "code",
   "execution_count": 103,
   "id": "cefb5809-73e2-4294-9664-fa9cb408a7c1",
   "metadata": {},
   "outputs": [],
   "source": [
    "data_df['Infant'] = (data_df['Age'] <= 1).astype(int)"
   ]
  },
  {
   "cell_type": "code",
   "execution_count": 107,
   "id": "c1a6becd-23fc-4929-88d1-a5426edb66e9",
   "metadata": {},
   "outputs": [
    {
     "data": {
      "text/html": [
       "<div>\n",
       "<style scoped>\n",
       "    .dataframe tbody tr th:only-of-type {\n",
       "        vertical-align: middle;\n",
       "    }\n",
       "\n",
       "    .dataframe tbody tr th {\n",
       "        vertical-align: top;\n",
       "    }\n",
       "\n",
       "    .dataframe thead th {\n",
       "        text-align: right;\n",
       "    }\n",
       "</style>\n",
       "<table border=\"1\" class=\"dataframe\">\n",
       "  <thead>\n",
       "    <tr style=\"text-align: right;\">\n",
       "      <th></th>\n",
       "      <th>PassengerId</th>\n",
       "      <th>Name</th>\n",
       "      <th>Age</th>\n",
       "      <th>Infant</th>\n",
       "      <th>Survived</th>\n",
       "    </tr>\n",
       "  </thead>\n",
       "  <tbody>\n",
       "    <tr>\n",
       "      <th>78</th>\n",
       "      <td>79</td>\n",
       "      <td>Caldwell, Master. Alden Gates</td>\n",
       "      <td>0.83</td>\n",
       "      <td>1</td>\n",
       "      <td>1</td>\n",
       "    </tr>\n",
       "    <tr>\n",
       "      <th>164</th>\n",
       "      <td>165</td>\n",
       "      <td>Panula, Master. Eino Viljami</td>\n",
       "      <td>1.00</td>\n",
       "      <td>1</td>\n",
       "      <td>0</td>\n",
       "    </tr>\n",
       "    <tr>\n",
       "      <th>172</th>\n",
       "      <td>173</td>\n",
       "      <td>Johnson, Miss. Eleanor Ileen</td>\n",
       "      <td>1.00</td>\n",
       "      <td>1</td>\n",
       "      <td>1</td>\n",
       "    </tr>\n",
       "    <tr>\n",
       "      <th>183</th>\n",
       "      <td>184</td>\n",
       "      <td>Becker, Master. Richard F</td>\n",
       "      <td>1.00</td>\n",
       "      <td>1</td>\n",
       "      <td>1</td>\n",
       "    </tr>\n",
       "    <tr>\n",
       "      <th>305</th>\n",
       "      <td>306</td>\n",
       "      <td>Allison, Master. Hudson Trevor</td>\n",
       "      <td>0.92</td>\n",
       "      <td>1</td>\n",
       "      <td>1</td>\n",
       "    </tr>\n",
       "    <tr>\n",
       "      <th>381</th>\n",
       "      <td>382</td>\n",
       "      <td>Nakid, Miss. Maria (\"Mary\")</td>\n",
       "      <td>1.00</td>\n",
       "      <td>1</td>\n",
       "      <td>1</td>\n",
       "    </tr>\n",
       "    <tr>\n",
       "      <th>386</th>\n",
       "      <td>387</td>\n",
       "      <td>Goodwin, Master. Sidney Leonard</td>\n",
       "      <td>1.00</td>\n",
       "      <td>1</td>\n",
       "      <td>0</td>\n",
       "    </tr>\n",
       "    <tr>\n",
       "      <th>469</th>\n",
       "      <td>470</td>\n",
       "      <td>Baclini, Miss. Helene Barbara</td>\n",
       "      <td>0.75</td>\n",
       "      <td>1</td>\n",
       "      <td>1</td>\n",
       "    </tr>\n",
       "    <tr>\n",
       "      <th>644</th>\n",
       "      <td>645</td>\n",
       "      <td>Baclini, Miss. Eugenie</td>\n",
       "      <td>0.75</td>\n",
       "      <td>1</td>\n",
       "      <td>1</td>\n",
       "    </tr>\n",
       "    <tr>\n",
       "      <th>755</th>\n",
       "      <td>756</td>\n",
       "      <td>Hamalainen, Master. Viljo</td>\n",
       "      <td>0.67</td>\n",
       "      <td>1</td>\n",
       "      <td>1</td>\n",
       "    </tr>\n",
       "    <tr>\n",
       "      <th>788</th>\n",
       "      <td>789</td>\n",
       "      <td>Dean, Master. Bertram Vere</td>\n",
       "      <td>1.00</td>\n",
       "      <td>1</td>\n",
       "      <td>1</td>\n",
       "    </tr>\n",
       "    <tr>\n",
       "      <th>803</th>\n",
       "      <td>804</td>\n",
       "      <td>Thomas, Master. Assad Alexander</td>\n",
       "      <td>0.42</td>\n",
       "      <td>1</td>\n",
       "      <td>1</td>\n",
       "    </tr>\n",
       "    <tr>\n",
       "      <th>827</th>\n",
       "      <td>828</td>\n",
       "      <td>Mallet, Master. Andre</td>\n",
       "      <td>1.00</td>\n",
       "      <td>1</td>\n",
       "      <td>1</td>\n",
       "    </tr>\n",
       "    <tr>\n",
       "      <th>831</th>\n",
       "      <td>832</td>\n",
       "      <td>Richards, Master. George Sibley</td>\n",
       "      <td>0.83</td>\n",
       "      <td>1</td>\n",
       "      <td>1</td>\n",
       "    </tr>\n",
       "  </tbody>\n",
       "</table>\n",
       "</div>"
      ],
      "text/plain": [
       "     PassengerId                             Name   Age  Infant  Survived\n",
       "78            79    Caldwell, Master. Alden Gates  0.83       1         1\n",
       "164          165     Panula, Master. Eino Viljami  1.00       1         0\n",
       "172          173     Johnson, Miss. Eleanor Ileen  1.00       1         1\n",
       "183          184        Becker, Master. Richard F  1.00       1         1\n",
       "305          306   Allison, Master. Hudson Trevor  0.92       1         1\n",
       "381          382      Nakid, Miss. Maria (\"Mary\")  1.00       1         1\n",
       "386          387  Goodwin, Master. Sidney Leonard  1.00       1         0\n",
       "469          470    Baclini, Miss. Helene Barbara  0.75       1         1\n",
       "644          645           Baclini, Miss. Eugenie  0.75       1         1\n",
       "755          756        Hamalainen, Master. Viljo  0.67       1         1\n",
       "788          789       Dean, Master. Bertram Vere  1.00       1         1\n",
       "803          804  Thomas, Master. Assad Alexander  0.42       1         1\n",
       "827          828            Mallet, Master. Andre  1.00       1         1\n",
       "831          832  Richards, Master. George Sibley  0.83       1         1"
      ]
     },
     "execution_count": 107,
     "metadata": {},
     "output_type": "execute_result"
    }
   ],
   "source": [
    "data_df.loc[data_df['Infant'] == 1, ['PassengerId', 'Name', 'Age', 'Infant', 'Survived']]"
   ]
  },
  {
   "cell_type": "code",
   "execution_count": 113,
   "id": "346e4011-66f7-4700-abfc-89bb51a14c10",
   "metadata": {},
   "outputs": [
    {
     "data": {
      "text/plain": [
       "F_onewayResult(statistic=np.float64(1.2919324381394264), pvalue=np.float64(0.2560822005263004))"
      ]
     },
     "execution_count": 113,
     "metadata": {},
     "output_type": "execute_result"
    }
   ],
   "source": [
    "sp.stats.f_oneway(\n",
    "    data_df.loc[\n",
    "        (data_df['Survived'] == 0) \\\n",
    "            & (data_df['Infant'] != 1) \\\n",
    "            & (~data_df['Age'].isna()),\n",
    "        'Age'\n",
    "    ],\n",
    "    data_df.loc[\n",
    "        (data_df['Survived'] == 1) \\\n",
    "            & (data_df['Infant'] != 1) \\\n",
    "            & (~data_df['Age'].isna()),\n",
    "        'Age'\n",
    "    ]\n",
    ")"
   ]
  },
  {
   "cell_type": "markdown",
   "id": "f7ffd5cc-4f28-4a2e-b9d2-fd2e937647d9",
   "metadata": {},
   "source": [
    "To further complicate matters, about a 5th of the population is missing an Age."
   ]
  },
  {
   "cell_type": "code",
   "execution_count": 16,
   "id": "e1d56ce0-ff2e-4d72-8c29-aaa7edef5a93",
   "metadata": {},
   "outputs": [
    {
     "data": {
      "text/plain": [
       "0.19865319865319866"
      ]
     },
     "execution_count": 16,
     "metadata": {},
     "output_type": "execute_result"
    }
   ],
   "source": [
    "sum(data_df['Age'].isna()) / data_df.shape[0]"
   ]
  },
  {
   "cell_type": "markdown",
   "id": "c9563b4f-90ab-47b9-bf92-3e3706cb0e27",
   "metadata": {},
   "source": [
    "On its face, Age does not seem like the best feature to use. However, since we are training a deep learning algorithm. There may be more complex relationships with age and survival rate when factoring in things like sex, family members, etc.\n",
    "<br><br>\n",
    "Also, in an attempt to help the model infer more from what is observed in Age, we can also add a seperate binary feature that only acitvates when we don't know the age. The hope with this new feature is that when combined with other features, the model can infer more about the information about the passengers at the hidden layers."
   ]
  },
  {
   "cell_type": "code",
   "execution_count": 17,
   "id": "35ff2cc3-d102-425d-8fec-9363d2e47dc4",
   "metadata": {},
   "outputs": [],
   "source": [
    "data_df['AgeMissing'] = 0\n",
    "data_df.loc[data_df['Age'].isna(), 'AgeMissing'] = 1"
   ]
  },
  {
   "cell_type": "code",
   "execution_count": 123,
   "id": "3e533671-b72a-4ac2-b8db-b372699ccc5a",
   "metadata": {},
   "outputs": [
    {
     "data": {
      "text/html": [
       "<div>\n",
       "<style scoped>\n",
       "    .dataframe tbody tr th:only-of-type {\n",
       "        vertical-align: middle;\n",
       "    }\n",
       "\n",
       "    .dataframe tbody tr th {\n",
       "        vertical-align: top;\n",
       "    }\n",
       "\n",
       "    .dataframe thead th {\n",
       "        text-align: right;\n",
       "    }\n",
       "</style>\n",
       "<table border=\"1\" class=\"dataframe\">\n",
       "  <thead>\n",
       "    <tr style=\"text-align: right;\">\n",
       "      <th></th>\n",
       "      <th>count</th>\n",
       "      <th>survival_rate</th>\n",
       "    </tr>\n",
       "    <tr>\n",
       "      <th>AgeMissing</th>\n",
       "      <th></th>\n",
       "      <th></th>\n",
       "    </tr>\n",
       "  </thead>\n",
       "  <tbody>\n",
       "    <tr>\n",
       "      <th>0</th>\n",
       "      <td>714</td>\n",
       "      <td>0.406162</td>\n",
       "    </tr>\n",
       "    <tr>\n",
       "      <th>1</th>\n",
       "      <td>177</td>\n",
       "      <td>0.293785</td>\n",
       "    </tr>\n",
       "  </tbody>\n",
       "</table>\n",
       "</div>"
      ],
      "text/plain": [
       "            count  survival_rate\n",
       "AgeMissing                      \n",
       "0             714       0.406162\n",
       "1             177       0.293785"
      ]
     },
     "execution_count": 123,
     "metadata": {},
     "output_type": "execute_result"
    }
   ],
   "source": [
    "data_df.groupby('AgeMissing').agg(count=('PassengerId', 'count'), survival_rate=('Survived', 'mean'))"
   ]
  },
  {
   "cell_type": "code",
   "execution_count": 130,
   "id": "2f718be3-5646-45e3-a0ab-8bce8bfd764b",
   "metadata": {},
   "outputs": [
    {
     "data": {
      "text/html": [
       "<div>\n",
       "<style scoped>\n",
       "    .dataframe tbody tr th:only-of-type {\n",
       "        vertical-align: middle;\n",
       "    }\n",
       "\n",
       "    .dataframe tbody tr th {\n",
       "        vertical-align: top;\n",
       "    }\n",
       "\n",
       "    .dataframe thead th {\n",
       "        text-align: right;\n",
       "    }\n",
       "</style>\n",
       "<table border=\"1\" class=\"dataframe\">\n",
       "  <thead>\n",
       "    <tr style=\"text-align: right;\">\n",
       "      <th>AgeMissing</th>\n",
       "      <th>0</th>\n",
       "      <th>1</th>\n",
       "    </tr>\n",
       "    <tr>\n",
       "      <th>Survived</th>\n",
       "      <th></th>\n",
       "      <th></th>\n",
       "    </tr>\n",
       "  </thead>\n",
       "  <tbody>\n",
       "    <tr>\n",
       "      <th>0</th>\n",
       "      <td>424.0</td>\n",
       "      <td>125.0</td>\n",
       "    </tr>\n",
       "    <tr>\n",
       "      <th>1</th>\n",
       "      <td>290.0</td>\n",
       "      <td>52.0</td>\n",
       "    </tr>\n",
       "  </tbody>\n",
       "</table>\n",
       "</div>"
      ],
      "text/plain": [
       "AgeMissing      0      1\n",
       "Survived                \n",
       "0           424.0  125.0\n",
       "1           290.0   52.0"
      ]
     },
     "execution_count": 130,
     "metadata": {},
     "output_type": "execute_result"
    }
   ],
   "source": [
    "age_missing_pivot_table = pd.pivot_table(\n",
    "    data_df.groupby(\n",
    "        ['AgeMissing', 'Survived'],as_index=False\n",
    "    ).agg(count=('PassengerId', 'count')),\n",
    "    index='Survived',\n",
    "    columns='AgeMissing',\n",
    "    values='count'\n",
    ")\n",
    "age_missing_pivot_table"
   ]
  },
  {
   "cell_type": "code",
   "execution_count": 131,
   "id": "86640ba9-7f2c-47cf-afa5-efceac1f9808",
   "metadata": {},
   "outputs": [
    {
     "data": {
      "text/plain": [
       "Chi2ContingencyResult(statistic=np.float64(7.10597508442256), pvalue=np.float64(0.007682742096212262), dof=1, expected_freq=array([[439.93939394, 109.06060606],\n",
       "       [274.06060606,  67.93939394]]))"
      ]
     },
     "execution_count": 131,
     "metadata": {},
     "output_type": "execute_result"
    }
   ],
   "source": [
    "sp.stats.chi2_contingency(age_missing_pivot_table)"
   ]
  },
  {
   "cell_type": "markdown",
   "id": "b51247dc-fe92-40df-9bac-433f415faaf2",
   "metadata": {},
   "source": [
    "Dividing Age by median age to help stabelize the gradient when training. This will also balance the age feature around 1, so filling in nulls with -1 will allow the model to observe a better distinction between ages that are missing and ages that are not."
   ]
  },
  {
   "cell_type": "code",
   "execution_count": 18,
   "id": "2666dc25-2c0f-48d9-ba40-f5754eb4ca21",
   "metadata": {},
   "outputs": [
    {
     "data": {
      "text/plain": [
       "np.float64(28.0)"
      ]
     },
     "execution_count": 18,
     "metadata": {},
     "output_type": "execute_result"
    }
   ],
   "source": [
    "data_df['Age'].median()"
   ]
  },
  {
   "cell_type": "code",
   "execution_count": 19,
   "id": "9423290a-7429-43fc-b106-a51a4efc710d",
   "metadata": {},
   "outputs": [],
   "source": [
    "data_df['AgeMed'] = (data_df['Age'] / 28).fillna(-1)"
   ]
  },
  {
   "cell_type": "code",
   "execution_count": 20,
   "id": "755d2b76-cedd-48cb-ae85-a6b4515baa0d",
   "metadata": {},
   "outputs": [
    {
     "data": {
      "text/plain": [
       "<Axes: >"
      ]
     },
     "execution_count": 20,
     "metadata": {},
     "output_type": "execute_result"
    },
    {
     "data": {
      "image/png": "[encoded data removed]",
      "text/plain": [
       "<Figure size 640x480 with 1 Axes>"
      ]
     },
     "metadata": {},
     "output_type": "display_data"
    }
   ],
   "source": [
    "data_df['AgeMed'].hist()"
   ]
  },
  {
   "cell_type": "markdown",
   "id": "2440b9ee-e356-44b4-85fb-33dd156948c5",
   "metadata": {},
   "source": [
    "# Dataset Preparation"
   ]
  },
  {
   "cell_type": "markdown",
   "id": "9b3c2955-c666-4196-88af-768bfd8e658a",
   "metadata": {},
   "source": [
    "### Streamlining Feature Engineering"
   ]
  },
  {
   "cell_type": "markdown",
   "id": "f4384eba-b92c-47b4-b3f7-9d5562c70f0f",
   "metadata": {},
   "source": [
    "Function for running feature engineering discussed in the above section.<br><br>\n",
    "I've kept this method defined outside of the dataset function for data exploration and debugging purposes."
   ]
  },
  {
   "cell_type": "code",
   "execution_count": 118,
   "id": "42ae3d82-c3b6-4972-ab96-f3191ea66f03",
   "metadata": {},
   "outputs": [],
   "source": [
    "def titanic_feature_engineering(titanic_df):\n",
    "    \"\"\"\n",
    "    Convenience function for processing all feature engineering.\n",
    "    This helps me keep feature engineering consistent across testing\n",
    "    and training datasets.\n",
    "    \"\"\"\n",
    "    # copying original Data Frame to preserve its original format and \n",
    "    # representions\n",
    "    fe_df = titanic_df.copy()\n",
    "\n",
    "    # CabinLetter\n",
    "    fe_df['CabinLetter'] = fe_df['Cabin'].str[0]\n",
    "\n",
    "    # FareLog2\n",
    "    fare_0_mask = fe_df['Fare'] == 0\n",
    "    fe_df['FareLog2'] = 0.0\n",
    "    fe_df.loc[~fare_0_mask, 'FareLog2'] = np.log2(\n",
    "        fe_df.loc[~fare_0_mask, 'Fare']\n",
    "    )\n",
    "\n",
    "    # Fare Median\n",
    "    fe_df['FareMed'] = fe_df['Fare'] / 14.4542\n",
    "\n",
    "    # AgeMissing\n",
    "    fe_df['AgeMissing'] = 0\n",
    "    fe_df.loc[fe_df['Age'].isna(), 'AgeMissing'] = 1\n",
    "\n",
    "    # AgeMed\n",
    "    fe_df['AgeMed'] = (fe_df['Age'] / 28).fillna(-1)\n",
    "\n",
    "    # Infant\n",
    "    fe_df['Infant'] = (fe_df['Age'] <= 1).astype(int)\n",
    "    \n",
    "    # expanding categorical features to on-hot-encoded vectors\n",
    "    for col in ['CabinLetter', 'Embarked', 'Sex', 'Pclass']:\n",
    "        fe_df = pd.concat(\n",
    "            (\n",
    "                fe_df, pd.get_dummies(\n",
    "                    fe_df[col], prefix=col, dtype=int, dummy_na=True\n",
    "                )\n",
    "            ), axis=1\n",
    "        )\n",
    "\n",
    "    return fe_df"
   ]
  },
  {
   "cell_type": "markdown",
   "id": "15b6038a-d383-4658-8a5e-b80e7ce97d34",
   "metadata": {},
   "source": [
    "### Defining Dataset Object for Titanic"
   ]
  },
  {
   "cell_type": "markdown",
   "id": "ce4ac370-9401-4592-a81c-453d57955c6f",
   "metadata": {},
   "source": [
    "Using PyTorch's builtin Dataset Objects. <br><br>\n",
    "On the surface, all you need to know is that loading the Titanic data into these object strealines common operations like batch randomization, feature selection, model evaluation, etc.<br>\n",
    "Feel free to take a closer look, but TitanicDataset and Dataloader are fundamantally convenience classes for managing the data.<br><br>\n",
    "It's worth noting that I have an upsampling method in this class. Only 1/3 of the training population survived, so at training the model will show a bias towards non-survival with no upsampling."
   ]
  },
  {
   "cell_type": "code",
   "execution_count": 176,
   "id": "01da3cf1-6f2e-46f0-b38a-a0a320520e2d",
   "metadata": {},
   "outputs": [],
   "source": [
    "class TitanicDataset(Dataset):\n",
    "    X: torch.tensor\n",
    "    y: torch.tensor\n",
    "    \n",
    "    def __init__(\n",
    "        self, data, target_cols=['Survived'],\n",
    "        meta_cols=[], device=torch.device('cpu')\n",
    "    ):\n",
    "        self.data = data\n",
    "        self.device = device\n",
    "        self.target_cols = target_cols\n",
    "        if meta_cols:\n",
    "            self.meta_cols = meta_cols\n",
    "\n",
    "        # define all input features as all columns that are not\n",
    "        # listed in the target or meta data\n",
    "        self.feature_cols = [\n",
    "            col for col in self.data.columns\n",
    "            if col not in self.target_cols + self.meta_cols\n",
    "        ]\n",
    "\n",
    "        self._set_X()\n",
    "        self._set_y()\n",
    "\n",
    "    def _set_X(self):\n",
    "        self.X = torch.FloatTensor(\n",
    "            self.data[self.feature_cols].to_numpy()\n",
    "        ).to(self.device)\n",
    "\n",
    "    def _set_y(self):\n",
    "        self.y = torch.FloatTensor(\n",
    "            pd.get_dummies(self.data['Survived']).to_numpy()\n",
    "        ).to(self.device)\n",
    "\n",
    "    def evaluate(self, model):\n",
    "        \"\"\"\n",
    "        Convenience function for evaluating the model's performance.\n",
    "        \"\"\"\n",
    "        y_pred = model(self.X).argmax(1)\n",
    "        y_true = self.y.argmax(1)\n",
    "        accuracy = (y_pred == y_true).sum() / len(y_true)\n",
    "        tp = ((y_pred == 1) & (y_true == 1)).sum()\n",
    "        fp = ((y_pred == 1) & (y_true == 0)).sum()\n",
    "        fn = ((y_pred == 0) & (y_true == 1)).sum()\n",
    "        precision = tp / (tp + fp)\n",
    "        recall = tp / (tp + fn)\n",
    "        return {\n",
    "            'accuracy': accuracy.item(),\n",
    "            'precision': precision.item(),\n",
    "            'recall': recall.item()\n",
    "        }\n",
    "\n",
    "    def balance_target(self, random_state=None):\n",
    "        \"\"\"\n",
    "        Helper function for balancing Survived and Non-Survived classes.\n",
    "        If not invoked, training will show a bias towards Non-Survived class\n",
    "        since only about 1/3 of the training data are in the survived class.\n",
    "        \"\"\"\n",
    "        died_data = self.data[self.data['Survived'] == 0]\n",
    "        survided_data = self.data[self.data['Survived'] == 1]\n",
    "        survided_data = resample(\n",
    "            survided_data, n_samples=died_data.shape[0], random_state=random_state\n",
    "        )\n",
    "        self.data = pd.concat((died_data, survided_data))\n",
    "        self._set_X()\n",
    "        self._set_y()\n",
    "        \n",
    "    def _swap_value(self, val, l1, l2):\n",
    "        \"\"\"\n",
    "        internal function for swaping data between lists.\n",
    "        \"\"\"\n",
    "        l1.append(l2.pop(l2.index(val)))\n",
    "        return l1, l2\n",
    "\n",
    "    def add_features(self, features):\n",
    "        \"\"\"\n",
    "        Utility function for adding features from the columns labelled\n",
    "        as meta-data\n",
    "        \"\"\"\n",
    "        if isinstance(features, str):\n",
    "            features = [features]\n",
    "        for feature in features:\n",
    "            if feature not in self.meta_cols:\n",
    "                raise ValueError(f'{feature} not in Meta Data Columns')\n",
    "            self.feature_cols, self.meta_cols = self._swap_value(\n",
    "                feature, self.feature_cols, self.meta_cols\n",
    "            )\n",
    "        self._set_X()\n",
    "\n",
    "    def remove_features(self, features):\n",
    "        \"\"\"\n",
    "        Utility function for removing columns from features and adding \n",
    "        them as meta-data\n",
    "        \"\"\"\n",
    "        if isinstance(features, str):\n",
    "            features = [features]\n",
    "        for feature in features:\n",
    "            if feature not in self.feature_cols:\n",
    "                raise ValueError(f'{feature} not in Meta Data Columns')\n",
    "            self.meta_cols, self.feature_cols = self._swap_value(\n",
    "                feature, self.meta_cols, self.feature_cols\n",
    "            )\n",
    "        self._set_X()\n",
    "    \n",
    "    def __len__(self):\n",
    "        return self.data.shape[0]\n",
    "\n",
    "    def __getitem__(self, idx):\n",
    "        return self.X[idx], self.y[idx]"
   ]
  },
  {
   "cell_type": "code",
   "execution_count": 120,
   "id": "257b8dc2-376a-4612-924b-32dd38fc7a79",
   "metadata": {},
   "outputs": [],
   "source": [
    "fe_titanic_df = titanic_feature_engineering(\n",
    "    pd.read_csv(Path('train.csv'))\n",
    ")"
   ]
  },
  {
   "cell_type": "code",
   "execution_count": 121,
   "id": "6226aa9f-78cb-4125-adae-0012088c9df5",
   "metadata": {},
   "outputs": [
    {
     "data": {
      "text/plain": [
       "Index(['PassengerId', 'Survived', 'Pclass', 'Name', 'Sex', 'Age', 'SibSp',\n",
       "       'Parch', 'Ticket', 'Fare', 'Cabin', 'Embarked', 'CabinLetter',\n",
       "       'FareLog2', 'FareMed', 'AgeMissing', 'AgeMed', 'Infant',\n",
       "       'CabinLetter_A', 'CabinLetter_B', 'CabinLetter_C', 'CabinLetter_D',\n",
       "       'CabinLetter_E', 'CabinLetter_F', 'CabinLetter_G', 'CabinLetter_T',\n",
       "       'CabinLetter_nan', 'Embarked_C', 'Embarked_Q', 'Embarked_S',\n",
       "       'Embarked_nan', 'Sex_female', 'Sex_male', 'Sex_nan', 'Pclass_1.0',\n",
       "       'Pclass_2.0', 'Pclass_3.0', 'Pclass_nan'],\n",
       "      dtype='object')"
      ]
     },
     "execution_count": 121,
     "metadata": {},
     "output_type": "execute_result"
    }
   ],
   "source": [
    "fe_titanic_df.columns"
   ]
  },
  {
   "cell_type": "code",
   "execution_count": 137,
   "id": "14301a45-3658-453d-978d-1119be35109a",
   "metadata": {},
   "outputs": [],
   "source": [
    "seed_no = 250320"
   ]
  },
  {
   "cell_type": "code",
   "execution_count": 138,
   "id": "a6e976ed-d9d7-41fd-af88-9037dac77668",
   "metadata": {},
   "outputs": [],
   "source": [
    "train_df, test_df = train_test_split(fe_titanic_df, train_size=0.8, random_state=seed_no)"
   ]
  },
  {
   "cell_type": "markdown",
   "id": "b2266f38-189d-4cbc-8cec-77fdd2c6c9f9",
   "metadata": {},
   "source": [
    "# Modelling"
   ]
  },
  {
   "cell_type": "markdown",
   "id": "029a50fa-5143-4bc7-b6fc-6c206df30980",
   "metadata": {},
   "source": [
    "*This section is still WIP. Still working on building out the prototype permutations."
   ]
  },
  {
   "cell_type": "code",
   "execution_count": 497,
   "id": "0a7e31f6-c8a3-4588-ac96-6f2238fc0f18",
   "metadata": {},
   "outputs": [],
   "source": [
    "def round_accuracies(metrics, r):\n",
    "    \"\"\"rounds accuracies of metrics for readability in the console\"\"\"\n",
    "    ret = {}\n",
    "    for metric, val in metrics.items():\n",
    "        ret[metric] = round(val, r)\n",
    "    return ret"
   ]
  },
  {
   "cell_type": "code",
   "execution_count": 527,
   "id": "cf40eb60-c59d-4d97-807c-a1530b52758a",
   "metadata": {},
   "outputs": [],
   "source": [
    "def log_metrics(metrics_df, model_name, epoch, lr, loss, train_metrics=None, validation_metrics=None):\n",
    "    \"\"\"\n",
    "    Helper function for tracking and comparing training runs.\n",
    "    \"\"\"\n",
    "    record = {'model_name': model_name, 'learning_rate': lr, 'epoch': epoch, 'avg_loss': loss}\n",
    "    if train_metrics:\n",
    "        for key, val in train_metrics.items():\n",
    "            record['train_'+key] = val\n",
    "    if validation_metrics:\n",
    "        for key, val in validation_metrics.items():\n",
    "            record['validation_'+key] = val\n",
    "    record = pd.DataFrame(pd.Series(record)).T\n",
    "    metrics_df = pd.concat((metrics_df, record)).reset_index(drop=True)\n",
    "    return metrics_df"
   ]
  },
  {
   "cell_type": "code",
   "execution_count": 822,
   "id": "25ba4714-2d8f-4ec8-935f-88206175ce2d",
   "metadata": {},
   "outputs": [],
   "source": [
    "# metrics table to store and compare runs\n",
    "metrics_df = pd.DataFrame(columns=[\n",
    "        'model_name', 'learning_rate', 'avg_loss', 'train_accuracy',\n",
    "        'train_precision', 'train_recall', 'validation_accuracy', \n",
    "        'validation_precision', 'validation_recall'\n",
    "    ]\n",
    ")"
   ]
  },
  {
   "cell_type": "code",
   "execution_count": 823,
   "id": "61a79885-fb03-4a4f-82c4-34d544cfc846",
   "metadata": {},
   "outputs": [],
   "source": [
    "device = torch.device('cpu')"
   ]
  },
  {
   "cell_type": "code",
   "execution_count": 824,
   "id": "b3773296-f7b2-4e21-b9fa-c56fbb4814b4",
   "metadata": {},
   "outputs": [
    {
     "data": {
      "text/plain": [
       "<torch._C.Generator at 0x270d0a2e0d0>"
      ]
     },
     "execution_count": 824,
     "metadata": {},
     "output_type": "execute_result"
    }
   ],
   "source": [
    "torch.manual_seed(seed_no)"
   ]
  },
  {
   "cell_type": "code",
   "execution_count": 825,
   "id": "2cf4366f-b368-4ecb-bf33-b597d1b00860",
   "metadata": {},
   "outputs": [],
   "source": [
    "# baseline meta data columns; exclude features that either show little \n",
    "# promise in a standard linear model or require abstract transformations\n",
    "# i.e. FareLog2\n",
    "baseline_meta_cols = [\n",
    "    'PassengerId', 'Name', 'Ticket', 'Cabin', 'Fare', 'Age', \n",
    "    'CabinLetter', 'Embarked', 'Sex', 'Pclass', 'FareLog2', 'AgeMed'\n",
    "]\n",
    "# same as baseline except replacing FareMed with FareLog2 \n",
    "baseline_farelog2 = [\n",
    "    'PassengerId', 'Name', 'Ticket', 'Cabin', 'Fare', 'Age', \n",
    "    'CabinLetter', 'Embarked', 'Sex', 'Pclass', 'FareMed', 'AgeMed'\n",
    "]\n",
    "# replace Infant and AgeMissing with AgeMed; the NN may be able to identify\n",
    "# some non-linear relationships with entire age range\n",
    "full_age = [\n",
    "    'PassengerId', 'Name', 'Ticket', 'Cabin', 'Fare', 'Age', \n",
    "    'CabinLetter', 'Embarked', 'Sex', 'Pclass', 'FareLog2', \n",
    "    'AgeMissing', 'Infant'\n",
    "]\n",
    "meta_cols = baseline_meta_cols"
   ]
  },
  {
   "cell_type": "code",
   "execution_count": 826,
   "id": "291dcc6a-7d44-4a87-9136-db0cab291b71",
   "metadata": {},
   "outputs": [],
   "source": [
    "train_dataset = TitanicDataset(\n",
    "    train_df, \n",
    "    meta_cols=meta_cols,\n",
    "    device=device\n",
    ")\n",
    "train_dataset.balance_target(random_state=seed_no)\n",
    "test_dataset = TitanicDataset(\n",
    "    test_df, \n",
    "    meta_cols=meta_cols,\n",
    "    device=device\n",
    ")"
   ]
  },
  {
   "cell_type": "code",
   "execution_count": 827,
   "id": "645d150c-dd0b-43ab-960e-a4eeef89f61e",
   "metadata": {},
   "outputs": [],
   "source": [
    "training_titanic_dataloader = DataLoader(train_dataset, batch_size=125, shuffle=True)"
   ]
  },
  {
   "cell_type": "code",
   "execution_count": 828,
   "id": "8354bc55-c41e-45e5-b9b7-140ac14264e1",
   "metadata": {},
   "outputs": [],
   "source": [
    "class TitanicNN(nn.Module):\n",
    "    def __init__(self, input_w, width, depth):\n",
    "        super().__init__()\n",
    "        self.depth = depth\n",
    "        self.width = width\n",
    "        self.in_layer = nn.Linear(input_w, self.width)\n",
    "        for i in range(self.depth):\n",
    "            self.__setattr__(f'layer{i+1}', nn.Linear(self.width, self.width))\n",
    "        self.out_layer = nn.Linear(self.width, 2)\n",
    "        self.relu = nn.ReLU()\n",
    "        self.tanh = nn.Tanh()\n",
    "\n",
    "    def forward(self, x):\n",
    "        x = self.in_layer(x)\n",
    "        for i in range(self.depth):\n",
    "            x = self.relu(self.__getattr__(f'layer{i+1}')(x))\n",
    "        x = self.tanh(self.out_layer(x))\n",
    "        return x"
   ]
  },
  {
   "cell_type": "markdown",
   "id": "5e490ab0-8fe4-4b56-9787-d62304304804",
   "metadata": {},
   "source": [
    "Cataloging various model permutations"
   ]
  },
  {
   "cell_type": "code",
   "execution_count": 835,
   "id": "24b38349-7bab-4624-8763-3505049efcec",
   "metadata": {},
   "outputs": [],
   "source": [
    "models = {\n",
    "    'baseline_27_0' : {'model': TitanicNN(25, 27, 0), 'columns': baseline_meta_cols},\n",
    "    'baseline_27_1' : {'model': TitanicNN(25, 27, 1), 'columns': baseline_meta_cols},\n",
    "    'baseline_27_2' : {'model': TitanicNN(25, 27, 2), 'columns': baseline_meta_cols},\n",
    "    'baseline_27_3' : {'model': TitanicNN(25, 27, 3), 'columns': baseline_meta_cols},\n",
    "    'farelog2_27_0' : {'model': TitanicNN(25, 27, 0), 'columns': baseline_farelog2},\n",
    "    'farelog2_27_1' : {'model': TitanicNN(25, 27, 1), 'columns': baseline_farelog2},\n",
    "    'farelog2_27_2' : {'model': TitanicNN(25, 27, 2), 'columns': baseline_farelog2},\n",
    "    'farelog2_27_3' : {'model': TitanicNN(25, 27, 3), 'columns': baseline_farelog2},\n",
    "    'full_age_27_0' : {'model': TitanicNN(24, 27, 3), 'columns': full_age},\n",
    "    'full_age_27_1' : {'model': TitanicNN(24, 27, 3), 'columns': full_age},\n",
    "    'full_age_27_2' : {'model': TitanicNN(24, 27, 3), 'columns': full_age},\n",
    "    'full_age_27_3' : {'model': TitanicNN(24, 27, 3), 'columns': full_age},\n",
    "}"
   ]
  },
  {
   "cell_type": "code",
   "execution_count": null,
   "id": "f7c9c845-8475-40be-9186-805f8c98b089",
   "metadata": {},
   "outputs": [],
   "source": [
    "model = TitanicNN(\n",
    "    test_dataset.X.shape[1],\n",
    "    test_dataset.X.shape[1],\n",
    "    0\n",
    ")\n",
    "model.to(device)"
   ]
  },
  {
   "cell_type": "code",
   "execution_count": 832,
   "id": "98ca8fc1-013d-4ede-82bd-868f1e8673f6",
   "metadata": {},
   "outputs": [
    {
     "data": {
      "text/plain": [
       "'baseline_25_0'"
      ]
     },
     "execution_count": 832,
     "metadata": {},
     "output_type": "execute_result"
    }
   ],
   "source": [
    "model_name = f'baseline_{model.width}_{model.depth}'\n",
    "# variable for tracking the actualy epoch while training\n",
    "true_epoch = 0\n",
    "model_name"
   ]
  },
  {
   "cell_type": "code",
   "execution_count": 818,
   "id": "81b6d34b-4047-4335-9b16-833b8f056a0c",
   "metadata": {},
   "outputs": [],
   "source": [
    "lr = 0.001\n",
    "loss_fn = nn.CrossEntropyLoss()\n",
    "optimizer = torch.optim.SGD(model.parameters(), lr=lr, momentum=.9)"
   ]
  },
  {
   "cell_type": "code",
   "execution_count": 821,
   "id": "d3e37468-3895-4df7-9202-dcef648d930f",
   "metadata": {},
   "outputs": [
    {
     "name": "stdout",
     "output_type": "stream",
     "text": [
      "Loss: 0.44266369   Train: {'accuracy': 0.797454, 'precision': 0.826972, 'recall': 0.752315}   Test: {'accuracy': 0.77095, 'precision': 0.643836, 'recall': 0.758065}\n",
      "Loss: 0.44238999   Train: {'accuracy': 0.797454, 'precision': 0.826972, 'recall': 0.752315}   Test: {'accuracy': 0.77095, 'precision': 0.643836, 'recall': 0.758065}\n",
      "Loss: 0.44201297   Train: {'accuracy': 0.798611, 'precision': 0.829082, 'recall': 0.752315}   Test: {'accuracy': 0.77095, 'precision': 0.643836, 'recall': 0.758065}\n",
      "Loss: 0.44262382   Train: {'accuracy': 0.797454, 'precision': 0.826972, 'recall': 0.752315}   Test: {'accuracy': 0.77095, 'precision': 0.643836, 'recall': 0.758065}\n",
      "Loss: 0.44163207   Train: {'accuracy': 0.798611, 'precision': 0.829082, 'recall': 0.752315}   Test: {'accuracy': 0.77095, 'precision': 0.643836, 'recall': 0.758065}\n"
     ]
    }
   ],
   "source": [
    "epochs = 100\n",
    "for e in range(epochs):\n",
    "    epoch_losses = []\n",
    "    for X, y in training_titanic_dataloader:\n",
    "        pred = model.forward(X)\n",
    "        loss = loss_fn(pred, y)\n",
    "        epoch_losses.append(loss.item())\n",
    "        loss.backward()\n",
    "        optimizer.step()\n",
    "        optimizer.zero_grad()\n",
    "    avg_loss = sum(epoch_losses)/len(epoch_losses)\n",
    "    if e % 20 == 0:\n",
    "        true_epoch += e\n",
    "        training_metrics = train_dataset.evaluate(model)\n",
    "        validation_metrics = test_dataset.evaluate(model)\n",
    "        metrics_df = log_metrics(\n",
    "            metrics_df, model_name, true_epoch, lr, avg_loss,\n",
    "            train_metrics=training_metrics, validation_metrics=validation_metrics\n",
    "        )\n",
    "        print(f'Loss: {round(avg_loss, 8)}   Train: {round_accuracies(training_metrics, 6)}   Test: {round_accuracies(validation_metrics, 6)}')"
   ]
  },
  {
   "cell_type": "code",
   "execution_count": 817,
   "id": "a2b580df-4429-49de-a979-26326fba2774",
   "metadata": {},
   "outputs": [
    {
     "data": {
      "text/plain": [
       "[<matplotlib.lines.Line2D at 0x270fff56990>]"
      ]
     },
     "execution_count": 817,
     "metadata": {},
     "output_type": "execute_result"
    },
    {
     "data": {
      "image/png": "[encoded data removed]",
      "text/plain": [
       "<Figure size 640x480 with 1 Axes>"
      ]
     },
     "metadata": {},
     "output_type": "display_data"
    }
   ],
   "source": [
    "plt.plot(metrics_df.loc[metrics_df['model_name'] == model_name, 'avg_loss'])"
   ]
  },
  {
   "cell_type": "code",
   "execution_count": 778,
   "id": "9f4135ac-37f9-4c14-b899-3454dd7e0a5c",
   "metadata": {},
   "outputs": [
    {
     "data": {
      "text/html": [
       "<div>\n",
       "<style scoped>\n",
       "    .dataframe tbody tr th:only-of-type {\n",
       "        vertical-align: middle;\n",
       "    }\n",
       "\n",
       "    .dataframe tbody tr th {\n",
       "        vertical-align: top;\n",
       "    }\n",
       "\n",
       "    .dataframe thead th {\n",
       "        text-align: right;\n",
       "    }\n",
       "</style>\n",
       "<table border=\"1\" class=\"dataframe\">\n",
       "  <thead>\n",
       "    <tr style=\"text-align: right;\">\n",
       "      <th></th>\n",
       "      <th>avg_loss</th>\n",
       "      <th>validation_accuracy</th>\n",
       "    </tr>\n",
       "    <tr>\n",
       "      <th>model_name</th>\n",
       "      <th></th>\n",
       "      <th></th>\n",
       "    </tr>\n",
       "  </thead>\n",
       "  <tbody>\n",
       "    <tr>\n",
       "      <th>full_age_24_0</th>\n",
       "      <td>0.445524</td>\n",
       "      <td>0.776536</td>\n",
       "    </tr>\n",
       "    <tr>\n",
       "      <th>full_age_24_1</th>\n",
       "      <td>0.438257</td>\n",
       "      <td>0.776536</td>\n",
       "    </tr>\n",
       "  </tbody>\n",
       "</table>\n",
       "</div>"
      ],
      "text/plain": [
       "               avg_loss validation_accuracy\n",
       "model_name                                 \n",
       "full_age_24_0  0.445524            0.776536\n",
       "full_age_24_1  0.438257            0.776536"
      ]
     },
     "execution_count": 778,
     "metadata": {},
     "output_type": "execute_result"
    }
   ],
   "source": [
    "metrics_df.groupby('model_name').agg({'avg_loss': 'min', 'validation_accuracy': 'max'})"
   ]
  },
  {
   "cell_type": "code",
   "execution_count": 516,
   "id": "f536ea1a-9e4b-479f-a35c-55d2a4776daa",
   "metadata": {},
   "outputs": [],
   "source": [
    "yp = model(test_dataset.X).argmax(1)\n",
    "yt = test_dataset.y.argmax(1)"
   ]
  },
  {
   "cell_type": "code",
   "execution_count": 127,
   "id": "7f9b76ce-3088-47f7-8822-a93b0b429306",
   "metadata": {},
   "outputs": [
    {
     "data": {
      "text/plain": [
       "(array([0.89166667, 0.71186441]),\n",
       " array([0.86290323, 0.76363636]),\n",
       " array([0.87704918, 0.73684211]),\n",
       " array([124,  55]))"
      ]
     },
     "execution_count": 127,
     "metadata": {},
     "output_type": "execute_result"
    }
   ],
   "source": [
    "precision_recall_fscore_support(yt, yp)"
   ]
  },
  {
   "cell_type": "code",
   "execution_count": 129,
   "id": "9004f657-76f3-44c8-993a-7eff68f16d89",
   "metadata": {},
   "outputs": [
    {
     "data": {
      "text/plain": [
       "tensor(124)"
      ]
     },
     "execution_count": 129,
     "metadata": {},
     "output_type": "execute_result"
    }
   ],
   "source": [
    "(yt == 0).sum()"
   ]
  },
  {
   "cell_type": "code",
   "execution_count": 131,
   "id": "24076d9f-0030-4f89-971a-c8a8ee3b99c3",
   "metadata": {},
   "outputs": [
    {
     "data": {
      "text/plain": [
       "tensor(0.7636)"
      ]
     },
     "execution_count": 131,
     "metadata": {},
     "output_type": "execute_result"
    }
   ],
   "source": [
    "((yp == 1) & (yt == 1)).sum() / (((yp == 1) & (yt == 1)).sum() + ((yp == 0) & (yt == 1)).sum())"
   ]
  },
  {
   "cell_type": "code",
   "execution_count": 132,
   "id": "f7e1b30e-98bc-46ae-9269-6517ea120eb8",
   "metadata": {},
   "outputs": [
    {
     "data": {
      "text/plain": [
       "tensor(0.7119)"
      ]
     },
     "execution_count": 132,
     "metadata": {},
     "output_type": "execute_result"
    }
   ],
   "source": [
    "((yp == 1) & (yt == 1)).sum() / (((yp == 1) & (yt == 1)).sum() + ((yp == 1) & (yt == 0)).sum())"
   ]
  },
  {
   "cell_type": "code",
   "execution_count": 133,
   "id": "17b9c381-6352-48a0-b8fc-405b419d2cb3",
   "metadata": {},
   "outputs": [
    {
     "data": {
      "text/plain": [
       "tensor(0.8324)"
      ]
     },
     "execution_count": 133,
     "metadata": {},
     "output_type": "execute_result"
    }
   ],
   "source": [
    "(yp == yt ).sum() / len(yp)"
   ]
  },
  {
   "cell_type": "code",
   "execution_count": null,
   "id": "3031ad99-fc61-43a7-9786-fd86b9822fb3",
   "metadata": {},
   "outputs": [],
   "source": []
  }
 ],
 "metadata": {
  "kernelspec": {
   "display_name": "kc-titanic",
   "language": "python",
   "name": "kc-titanic"
  },
  "language_info": {
   "codemirror_mode": {
    "name": "ipython",
    "version": 3
   },
   "file_extension": ".py",
   "mimetype": "text/x-python",
   "name": "python",
   "nbconvert_exporter": "python",
   "pygments_lexer": "ipython3",
   "version": "3.13.2"
  }
 },
 "nbformat": 4,
 "nbformat_minor": 5
}
