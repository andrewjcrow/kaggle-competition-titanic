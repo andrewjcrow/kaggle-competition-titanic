{
 "cells": [
  {
   "cell_type": "markdown",
   "id": "925d451c-c57c-4c14-ac4f-ec61ce0c96ff",
   "metadata": {},
   "source": [
    "# IMPORTANT"
   ]
  },
  {
   "cell_type": "markdown",
   "id": "ca9ef32c-aa17-41d0-b473-ab4a8fd55684",
   "metadata": {},
   "source": [
    "This notebook is still a WIP. The farther down you read, the less complete the code gets"
   ]
  },
  {
   "cell_type": "markdown",
   "id": "449101c8-643a-46e3-8e9a-c627f47f466f",
   "metadata": {},
   "source": [
    "# Imports"
   ]
  },
  {
   "cell_type": "code",
   "execution_count": 1,
   "id": "2d24fec8-322f-4d3a-919f-4a20e2360487",
   "metadata": {},
   "outputs": [],
   "source": [
    "import torch\n",
    "import torch.nn as nn\n",
    "import torch.nn.functional as F\n",
    "from torch.utils.data import Dataset, DataLoader\n",
    "\n",
    "from pathlib import Path\n",
    "\n",
    "import pandas as pd\n",
    "import numpy as np\n",
    "import scipy as sp\n",
    "\n",
    "from matplotlib import pyplot as plt\n",
    "\n",
    "from sklearn.model_selection import train_test_split\n",
    "from sklearn.utils import resample\n",
    "from sklearn.metrics import precision_recall_fscore_support"
   ]
  },
  {
   "cell_type": "markdown",
   "id": "2f842f64-bef7-485f-80a6-7c5c497f2c18",
   "metadata": {},
   "source": [
    "# Loading Data"
   ]
  },
  {
   "cell_type": "code",
   "execution_count": 2,
   "id": "b96f65a7-ea03-4961-ba57-9e0c0852eea4",
   "metadata": {},
   "outputs": [],
   "source": [
    "data_df = pd.read_csv(Path('train.csv'))\n",
    "training_data = pd.read_csv(Path('test.csv'))"
   ]
  },
  {
   "cell_type": "code",
   "execution_count": 3,
   "id": "12124621-2cc4-41fb-8bdc-969d34373124",
   "metadata": {},
   "outputs": [
    {
     "data": {
      "text/plain": [
       "Index(['PassengerId', 'Survived', 'Pclass', 'Name', 'Sex', 'Age', 'SibSp',\n",
       "       'Parch', 'Ticket', 'Fare', 'Cabin', 'Embarked'],\n",
       "      dtype='object')"
      ]
     },
     "execution_count": 3,
     "metadata": {},
     "output_type": "execute_result"
    }
   ],
   "source": [
    "data_df.columns"
   ]
  },
  {
   "cell_type": "markdown",
   "id": "209239f5-6214-4d71-8505-c088659b58aa",
   "metadata": {},
   "source": [
    "# Feature Development & Transformation"
   ]
  },
  {
   "cell_type": "markdown",
   "id": "822ffa7a-513f-42dd-bf71-33c184b68949",
   "metadata": {},
   "source": [
    "## Prefix"
   ]
  },
  {
   "cell_type": "code",
   "execution_count": 97,
   "id": "a625c559-01e3-4e9f-9ad0-5156ce214fb0",
   "metadata": {},
   "outputs": [],
   "source": [
    "prefix = data_df['Name'].str.extract(r', (.*?)\\.')[0]"
   ]
  },
  {
   "cell_type": "code",
   "execution_count": 100,
   "id": "59dea2e1-a807-47ae-876e-f5e786d33514",
   "metadata": {},
   "outputs": [
    {
     "data": {
      "text/html": [
       "<div>\n",
       "<style scoped>\n",
       "    .dataframe tbody tr th:only-of-type {\n",
       "        vertical-align: middle;\n",
       "    }\n",
       "\n",
       "    .dataframe tbody tr th {\n",
       "        vertical-align: top;\n",
       "    }\n",
       "\n",
       "    .dataframe thead th {\n",
       "        text-align: right;\n",
       "    }\n",
       "</style>\n",
       "<table border=\"1\" class=\"dataframe\">\n",
       "  <thead>\n",
       "    <tr style=\"text-align: right;\">\n",
       "      <th>Survived</th>\n",
       "      <th>0</th>\n",
       "      <th>1</th>\n",
       "    </tr>\n",
       "    <tr>\n",
       "      <th>Prefix</th>\n",
       "      <th></th>\n",
       "      <th></th>\n",
       "    </tr>\n",
       "  </thead>\n",
       "  <tbody>\n",
       "    <tr>\n",
       "      <th>Master</th>\n",
       "      <td>17</td>\n",
       "      <td>23</td>\n",
       "    </tr>\n",
       "    <tr>\n",
       "      <th>Miss</th>\n",
       "      <td>55</td>\n",
       "      <td>131</td>\n",
       "    </tr>\n",
       "    <tr>\n",
       "      <th>Mr</th>\n",
       "      <td>437</td>\n",
       "      <td>81</td>\n",
       "    </tr>\n",
       "    <tr>\n",
       "      <th>Mrs</th>\n",
       "      <td>26</td>\n",
       "      <td>99</td>\n",
       "    </tr>\n",
       "    <tr>\n",
       "      <th>Other</th>\n",
       "      <td>14</td>\n",
       "      <td>8</td>\n",
       "    </tr>\n",
       "  </tbody>\n",
       "</table>\n",
       "</div>"
      ],
      "text/plain": [
       "Survived    0    1\n",
       "Prefix            \n",
       "Master     17   23\n",
       "Miss       55  131\n",
       "Mr        437   81\n",
       "Mrs        26   99\n",
       "Other      14    8"
      ]
     },
     "execution_count": 100,
     "metadata": {},
     "output_type": "execute_result"
    }
   ],
   "source": [
    "prefix_pivot_table = pd.pivot_table(\n",
    "    data_df, index='Prefix', columns='Survived', \n",
    "    values='PassengerId', aggfunc='count'\n",
    ")\n",
    "prefix_pivot_table"
   ]
  },
  {
   "cell_type": "code",
   "execution_count": 101,
   "id": "00e68d14-740f-4ee0-9e60-bc346cf3e889",
   "metadata": {},
   "outputs": [
    {
     "data": {
      "text/plain": [
       "Chi2ContingencyResult(statistic=np.float64(288.3592363766872), pvalue=np.float64(3.5115031940983145e-61), dof=4, expected_freq=array([[ 24.64646465,  15.35353535],\n",
       "       [114.60606061,  71.39393939],\n",
       "       [319.17171717, 198.82828283],\n",
       "       [ 77.02020202,  47.97979798],\n",
       "       [ 13.55555556,   8.44444444]]))"
      ]
     },
     "execution_count": 101,
     "metadata": {},
     "output_type": "execute_result"
    }
   ],
   "source": [
    "sp.stats.chi2_contingency(prefix_pivot_table)"
   ]
  },
  {
   "cell_type": "markdown",
   "id": "1aa1963f-c6b9-4586-905a-ae8df19132ea",
   "metadata": {},
   "source": [
    "## Cabin Letter"
   ]
  },
  {
   "cell_type": "markdown",
   "id": "e014a3de-8c66-4a24-94ba-c10473965b06",
   "metadata": {},
   "source": [
    "Cabin Letter seems to have an observable impact on survival, particularly in Cabin C and F. See pivot table Below. Running a Chi-Squared Test appears to back this as well."
   ]
  },
  {
   "cell_type": "code",
   "execution_count": 4,
   "id": "c20b2069-c652-4702-9c59-d82157c400f0",
   "metadata": {},
   "outputs": [],
   "source": [
    "data_df['CabinLetter'] = data_df['Cabin'].str[0]"
   ]
  },
  {
   "cell_type": "code",
   "execution_count": 5,
   "id": "316d7997-cce8-4320-a0b7-8317c512f175",
   "metadata": {},
   "outputs": [
    {
     "data": {
      "text/html": [
       "<div>\n",
       "<style scoped>\n",
       "    .dataframe tbody tr th:only-of-type {\n",
       "        vertical-align: middle;\n",
       "    }\n",
       "\n",
       "    .dataframe tbody tr th {\n",
       "        vertical-align: top;\n",
       "    }\n",
       "\n",
       "    .dataframe thead th {\n",
       "        text-align: right;\n",
       "    }\n",
       "</style>\n",
       "<table border=\"1\" class=\"dataframe\">\n",
       "  <thead>\n",
       "    <tr style=\"text-align: right;\">\n",
       "      <th>Survived</th>\n",
       "      <th>0</th>\n",
       "      <th>1</th>\n",
       "    </tr>\n",
       "    <tr>\n",
       "      <th>CabinLetter</th>\n",
       "      <th></th>\n",
       "      <th></th>\n",
       "    </tr>\n",
       "  </thead>\n",
       "  <tbody>\n",
       "    <tr>\n",
       "      <th>A</th>\n",
       "      <td>0.014572</td>\n",
       "      <td>0.020468</td>\n",
       "    </tr>\n",
       "    <tr>\n",
       "      <th>B</th>\n",
       "      <td>0.021858</td>\n",
       "      <td>0.102339</td>\n",
       "    </tr>\n",
       "    <tr>\n",
       "      <th>C</th>\n",
       "      <td>0.043716</td>\n",
       "      <td>0.102339</td>\n",
       "    </tr>\n",
       "    <tr>\n",
       "      <th>D</th>\n",
       "      <td>0.014572</td>\n",
       "      <td>0.073099</td>\n",
       "    </tr>\n",
       "    <tr>\n",
       "      <th>E</th>\n",
       "      <td>0.014572</td>\n",
       "      <td>0.070175</td>\n",
       "    </tr>\n",
       "    <tr>\n",
       "      <th>F</th>\n",
       "      <td>0.009107</td>\n",
       "      <td>0.023392</td>\n",
       "    </tr>\n",
       "    <tr>\n",
       "      <th>G</th>\n",
       "      <td>0.003643</td>\n",
       "      <td>0.005848</td>\n",
       "    </tr>\n",
       "    <tr>\n",
       "      <th>T</th>\n",
       "      <td>0.001821</td>\n",
       "      <td>0.000000</td>\n",
       "    </tr>\n",
       "    <tr>\n",
       "      <th>NaN</th>\n",
       "      <td>0.876138</td>\n",
       "      <td>0.602339</td>\n",
       "    </tr>\n",
       "  </tbody>\n",
       "</table>\n",
       "</div>"
      ],
      "text/plain": [
       "Survived            0         1\n",
       "CabinLetter                    \n",
       "A            0.014572  0.020468\n",
       "B            0.021858  0.102339\n",
       "C            0.043716  0.102339\n",
       "D            0.014572  0.073099\n",
       "E            0.014572  0.070175\n",
       "F            0.009107  0.023392\n",
       "G            0.003643  0.005848\n",
       "T            0.001821  0.000000\n",
       "NaN          0.876138  0.602339"
      ]
     },
     "execution_count": 5,
     "metadata": {},
     "output_type": "execute_result"
    }
   ],
   "source": [
    "cabin_letter_pivot = pd.pivot_table(\n",
    "    data_df.groupby(\n",
    "        ['CabinLetter', 'Survived'], as_index=False, dropna=False\n",
    "    ).agg(COUNT=('PassengerId', 'count')),\n",
    "    values='COUNT',\n",
    "    index='CabinLetter',\n",
    "    columns='Survived',\n",
    "    dropna=False\n",
    ").fillna(0)\n",
    "\n",
    "cabin_letter_pivot / cabin_letter_pivot.sum()"
   ]
  },
  {
   "cell_type": "code",
   "execution_count": 6,
   "id": "ec3936b3-76b6-451d-bd49-74466b175fc5",
   "metadata": {},
   "outputs": [],
   "source": [
    "chi2_res = sp.stats.chi2_contingency(cabin_letter_pivot)"
   ]
  },
  {
   "cell_type": "code",
   "execution_count": 7,
   "id": "a26d2720-b9c3-4640-891a-e36f70ac11e2",
   "metadata": {},
   "outputs": [
    {
     "data": {
      "text/plain": [
       "(np.float64(99.16416061888009), np.float64(6.326020042314704e-18))"
      ]
     },
     "execution_count": 7,
     "metadata": {},
     "output_type": "execute_result"
    }
   ],
   "source": [
    "chi2_res.statistic, chi2_res.pvalue"
   ]
  },
  {
   "cell_type": "markdown",
   "id": "2ed8ddd3-3688-4f41-ace3-fbfc9d8a7991",
   "metadata": {},
   "source": [
    "## Fare Transformation"
   ]
  },
  {
   "cell_type": "markdown",
   "id": "7cc82bde-e058-4d1f-97a3-f89378968697",
   "metadata": {},
   "source": [
    "There appears to be a relationship between Survival and fare, with the passengers with higher fares more likely to survive. However, the fare's distribution does not appear to be normally distributed judging by the figures below."
   ]
  },
  {
   "cell_type": "code",
   "execution_count": 8,
   "id": "71870201-f7b3-4264-ab7e-c86d9a920baa",
   "metadata": {},
   "outputs": [
    {
     "data": {
      "image/png": "[encoded data removed]",
      "text/plain": [
       "<Figure size 1000x400 with 2 Axes>"
      ]
     },
     "metadata": {},
     "output_type": "display_data"
    }
   ],
   "source": [
    "fig, (ax1, ax2) = plt.subplots(1, 2, figsize=(10, 4))\n",
    "\n",
    "ax1.boxplot(\n",
    "    (\n",
    "        data_df.loc[data_df['Survived'] == 0, 'Fare'],\n",
    "        data_df.loc[data_df['Survived'] == 1, 'Fare']\n",
    "    ),\n",
    "    tick_labels = ('Survived=0', 'Survived=1')\n",
    ")\n",
    "ax1.set_title('Fare Boxplot')\n",
    "\n",
    "ax2.hist(\n",
    "    data_df.loc[data_df['Survived'] == 0, 'Fare'],\n",
    "    alpha=0.7,\n",
    "    density=True\n",
    ")\n",
    "ax2.hist(\n",
    "    data_df.loc[data_df['Survived'] == 1, 'Fare'],\n",
    "    alpha=0.7,\n",
    "    density=True\n",
    ")\n",
    "ax2.set_title('Fare Histogram')\n",
    "ax2.legend(('Survived=0', 'Survived=1'))\n",
    "\n",
    "plt.show()"
   ]
  },
  {
   "cell_type": "markdown",
   "id": "76d90f19-e1f7-45ff-860e-d96b1d7f643c",
   "metadata": {},
   "source": [
    "Although not perfect, log transforming Fare (and leaving all 0 values as 0) will reduce the feature's measured variance and brings it's scale closer to other features. This will help with model stability and convergence."
   ]
  },
  {
   "cell_type": "code",
   "execution_count": 9,
   "id": "6f0db5ea-8586-4d6e-b49c-9cbb4a002882",
   "metadata": {},
   "outputs": [],
   "source": [
    "fare_0_mask = data_df['Fare'] == 0\n",
    "data_df['FareLog2'] = 0.0\n",
    "data_df.loc[~fare_0_mask, 'FareLog2'] = np.log2(data_df.loc[~fare_0_mask, 'Fare'])"
   ]
  },
  {
   "cell_type": "code",
   "execution_count": 10,
   "id": "a48b709d-0ddf-4f4a-976f-f8dae3428225",
   "metadata": {},
   "outputs": [
    {
     "data": {
      "image/png": "[encoded data removed]",
      "text/plain": [
       "<Figure size 1000x400 with 2 Axes>"
      ]
     },
     "metadata": {},
     "output_type": "display_data"
    }
   ],
   "source": [
    "fig, (ax1, ax2) = plt.subplots(1, 2, figsize=(10, 4))\n",
    "\n",
    "ax1.boxplot(\n",
    "    (\n",
    "        data_df.loc[data_df['Survived'] == 0, 'FareLog2'],\n",
    "        data_df.loc[data_df['Survived'] == 1, 'FareLog2']\n",
    "    ),\n",
    "    tick_labels = ('Survived=0', 'Survived=1')\n",
    ")\n",
    "ax1.set_title('FareLog2 Boxplot')\n",
    "\n",
    "ax2.hist(\n",
    "    data_df.loc[data_df['Survived'] == 0, 'FareLog2'],\n",
    "    alpha=0.7,\n",
    "    density=True\n",
    ")\n",
    "ax2.hist(\n",
    "    data_df.loc[data_df['Survived'] == 1, 'FareLog2'],\n",
    "    alpha=0.7,\n",
    "    density=True\n",
    ")\n",
    "ax2.set_title('FareLog2 Histogram')\n",
    "ax2.legend(('Survived=0', 'Survived=1'))\n",
    "\n",
    "plt.show()"
   ]
  },
  {
   "cell_type": "code",
   "execution_count": 11,
   "id": "a94c3910-fdf5-4fc8-9e84-f3906095a958",
   "metadata": {},
   "outputs": [],
   "source": [
    "def cat_expand(df, col_name):\n",
    "    \"\"\"\n",
    "    utility function for expanding categorical fields\n",
    "    \"\"\"\n",
    "    return pd.concat(\n",
    "        (\n",
    "            df, pd.get_dummies(df[col_name], prefix=col_name, dtype=int, dummy_na=True)\n",
    "        ), axis = 1\n",
    "    ).drop(columns=col_name)"
   ]
  },
  {
   "cell_type": "markdown",
   "id": "0e633d72-19e8-4fe0-be7a-55acf028fc78",
   "metadata": {},
   "source": [
    "Expanding categorical fields (CabinLetter, Embarked, Sex, and Pclass) to one-hot encodings"
   ]
  },
  {
   "cell_type": "code",
   "execution_count": 12,
   "id": "a2efad4f-b052-4cd8-aa48-c6ac51e57ce7",
   "metadata": {},
   "outputs": [],
   "source": [
    "data_df['CabinLetter'] = data_df['Cabin'].str[0]\n",
    "for col in ['CabinLetter', 'Embarked', 'Sex', 'Pclass']:\n",
    "    data_df = cat_expand(data_df, col)"
   ]
  },
  {
   "cell_type": "markdown",
   "id": "7267149a-3240-4afd-a027-0ecd29b323d0",
   "metadata": {},
   "source": [
    "Adding a Fare scaled to the median to compare log transforming against simply scaling fare by the measured median."
   ]
  },
  {
   "cell_type": "code",
   "execution_count": 13,
   "id": "eaf1b07c-938f-4ef8-8813-f6438533afc3",
   "metadata": {},
   "outputs": [
    {
     "data": {
      "text/plain": [
       "np.float64(14.4542)"
      ]
     },
     "execution_count": 13,
     "metadata": {},
     "output_type": "execute_result"
    }
   ],
   "source": [
    "median_fare = data_df['Fare'].median()\n",
    "median_fare"
   ]
  },
  {
   "cell_type": "code",
   "execution_count": 14,
   "id": "07befd8a-ae85-41b9-b586-fbf18f70a694",
   "metadata": {},
   "outputs": [],
   "source": [
    "data_df['FareMed'] = data_df['Fare'] / 14.4542"
   ]
  },
  {
   "cell_type": "markdown",
   "id": "15a29988-bfb3-4bee-b8c2-a42b5311624b",
   "metadata": {},
   "source": [
    "## Age"
   ]
  },
  {
   "cell_type": "markdown",
   "id": "a2a999fb-4a1a-4c17-b981-6d5621b81369",
   "metadata": {},
   "source": [
    "With the exception of infants, toddlers, and young children, there does not appear to be a huge difference with age across the 2 classes."
   ]
  },
  {
   "cell_type": "code",
   "execution_count": 15,
   "id": "04900464-e73b-4671-84a5-a374307ddaf2",
   "metadata": {},
   "outputs": [
    {
     "data": {
      "image/png": "[encoded data removed]",
      "text/plain": [
       "<Figure size 1000x400 with 2 Axes>"
      ]
     },
     "metadata": {},
     "output_type": "display_data"
    }
   ],
   "source": [
    "fig, (ax1, ax2) = plt.subplots(1, 2, figsize=(10, 4))\n",
    "\n",
    "ax1.boxplot(\n",
    "    (\n",
    "        data_df.loc[(data_df['Survived'] == 0) & (~data_df['Age'].isna()), 'Age'],\n",
    "        data_df.loc[(data_df['Survived'] == 1) & (~data_df['Age'].isna()), 'Age']\n",
    "    ),\n",
    "    tick_labels = ('Survived=0', 'Survived=1')\n",
    ")\n",
    "ax1.set_title('Boxplot Surival by Age')\n",
    "\n",
    "ax2.hist(\n",
    "    (\n",
    "        data_df.loc[(data_df['Survived'] == 0) & (~data_df['Age'].isna()), 'Age'],\n",
    "        data_df.loc[(data_df['Survived'] == 1) & (~data_df['Age'].isna()), 'Age']\n",
    "    ),\n",
    "    density=True,\n",
    ")\n",
    "ax2.legend(('Survived=0', 'Survived=1'))\n",
    "ax2.set_title('Histogram Surival by Age')\n",
    "plt.show()"
   ]
  },
  {
   "cell_type": "markdown",
   "id": "71ac7988-2af8-4f31-b35c-09dcd27260c9",
   "metadata": {},
   "source": [
    "Running an F-test shows a degree of signicance for age, but that group variance is mostly coming from the fact that most infants (Age between 0 and 1) in the sample survived. When controlling for infants, the group variance is not particularly significant."
   ]
  },
  {
   "cell_type": "code",
   "execution_count": 16,
   "id": "f62ef486-3404-4515-822b-ca5b51b100a2",
   "metadata": {},
   "outputs": [
    {
     "data": {
      "text/plain": [
       "F_onewayResult(statistic=np.float64(4.271194933815904), pvalue=np.float64(0.03912465401348333))"
      ]
     },
     "execution_count": 16,
     "metadata": {},
     "output_type": "execute_result"
    }
   ],
   "source": [
    "sp.stats.f_oneway(\n",
    "    data_df.loc[(data_df['Survived'] == 0) & (~data_df['Age'].isna()), 'Age'],\n",
    "    data_df.loc[(data_df['Survived'] == 1) & (~data_df['Age'].isna()), 'Age']\n",
    ")"
   ]
  },
  {
   "cell_type": "code",
   "execution_count": 17,
   "id": "cefb5809-73e2-4294-9664-fa9cb408a7c1",
   "metadata": {},
   "outputs": [],
   "source": [
    "data_df['Infant'] = (data_df['Age'] <= 1).astype(int)"
   ]
  },
  {
   "cell_type": "code",
   "execution_count": 18,
   "id": "c1a6becd-23fc-4929-88d1-a5426edb66e9",
   "metadata": {},
   "outputs": [
    {
     "data": {
      "text/html": [
       "<div>\n",
       "<style scoped>\n",
       "    .dataframe tbody tr th:only-of-type {\n",
       "        vertical-align: middle;\n",
       "    }\n",
       "\n",
       "    .dataframe tbody tr th {\n",
       "        vertical-align: top;\n",
       "    }\n",
       "\n",
       "    .dataframe thead th {\n",
       "        text-align: right;\n",
       "    }\n",
       "</style>\n",
       "<table border=\"1\" class=\"dataframe\">\n",
       "  <thead>\n",
       "    <tr style=\"text-align: right;\">\n",
       "      <th></th>\n",
       "      <th>PassengerId</th>\n",
       "      <th>Name</th>\n",
       "      <th>Age</th>\n",
       "      <th>Infant</th>\n",
       "      <th>Survived</th>\n",
       "    </tr>\n",
       "  </thead>\n",
       "  <tbody>\n",
       "    <tr>\n",
       "      <th>78</th>\n",
       "      <td>79</td>\n",
       "      <td>Caldwell, Master. Alden Gates</td>\n",
       "      <td>0.83</td>\n",
       "      <td>1</td>\n",
       "      <td>1</td>\n",
       "    </tr>\n",
       "    <tr>\n",
       "      <th>164</th>\n",
       "      <td>165</td>\n",
       "      <td>Panula, Master. Eino Viljami</td>\n",
       "      <td>1.00</td>\n",
       "      <td>1</td>\n",
       "      <td>0</td>\n",
       "    </tr>\n",
       "    <tr>\n",
       "      <th>172</th>\n",
       "      <td>173</td>\n",
       "      <td>Johnson, Miss. Eleanor Ileen</td>\n",
       "      <td>1.00</td>\n",
       "      <td>1</td>\n",
       "      <td>1</td>\n",
       "    </tr>\n",
       "    <tr>\n",
       "      <th>183</th>\n",
       "      <td>184</td>\n",
       "      <td>Becker, Master. Richard F</td>\n",
       "      <td>1.00</td>\n",
       "      <td>1</td>\n",
       "      <td>1</td>\n",
       "    </tr>\n",
       "    <tr>\n",
       "      <th>305</th>\n",
       "      <td>306</td>\n",
       "      <td>Allison, Master. Hudson Trevor</td>\n",
       "      <td>0.92</td>\n",
       "      <td>1</td>\n",
       "      <td>1</td>\n",
       "    </tr>\n",
       "    <tr>\n",
       "      <th>381</th>\n",
       "      <td>382</td>\n",
       "      <td>Nakid, Miss. Maria (\"Mary\")</td>\n",
       "      <td>1.00</td>\n",
       "      <td>1</td>\n",
       "      <td>1</td>\n",
       "    </tr>\n",
       "    <tr>\n",
       "      <th>386</th>\n",
       "      <td>387</td>\n",
       "      <td>Goodwin, Master. Sidney Leonard</td>\n",
       "      <td>1.00</td>\n",
       "      <td>1</td>\n",
       "      <td>0</td>\n",
       "    </tr>\n",
       "    <tr>\n",
       "      <th>469</th>\n",
       "      <td>470</td>\n",
       "      <td>Baclini, Miss. Helene Barbara</td>\n",
       "      <td>0.75</td>\n",
       "      <td>1</td>\n",
       "      <td>1</td>\n",
       "    </tr>\n",
       "    <tr>\n",
       "      <th>644</th>\n",
       "      <td>645</td>\n",
       "      <td>Baclini, Miss. Eugenie</td>\n",
       "      <td>0.75</td>\n",
       "      <td>1</td>\n",
       "      <td>1</td>\n",
       "    </tr>\n",
       "    <tr>\n",
       "      <th>755</th>\n",
       "      <td>756</td>\n",
       "      <td>Hamalainen, Master. Viljo</td>\n",
       "      <td>0.67</td>\n",
       "      <td>1</td>\n",
       "      <td>1</td>\n",
       "    </tr>\n",
       "    <tr>\n",
       "      <th>788</th>\n",
       "      <td>789</td>\n",
       "      <td>Dean, Master. Bertram Vere</td>\n",
       "      <td>1.00</td>\n",
       "      <td>1</td>\n",
       "      <td>1</td>\n",
       "    </tr>\n",
       "    <tr>\n",
       "      <th>803</th>\n",
       "      <td>804</td>\n",
       "      <td>Thomas, Master. Assad Alexander</td>\n",
       "      <td>0.42</td>\n",
       "      <td>1</td>\n",
       "      <td>1</td>\n",
       "    </tr>\n",
       "    <tr>\n",
       "      <th>827</th>\n",
       "      <td>828</td>\n",
       "      <td>Mallet, Master. Andre</td>\n",
       "      <td>1.00</td>\n",
       "      <td>1</td>\n",
       "      <td>1</td>\n",
       "    </tr>\n",
       "    <tr>\n",
       "      <th>831</th>\n",
       "      <td>832</td>\n",
       "      <td>Richards, Master. George Sibley</td>\n",
       "      <td>0.83</td>\n",
       "      <td>1</td>\n",
       "      <td>1</td>\n",
       "    </tr>\n",
       "  </tbody>\n",
       "</table>\n",
       "</div>"
      ],
      "text/plain": [
       "     PassengerId                             Name   Age  Infant  Survived\n",
       "78            79    Caldwell, Master. Alden Gates  0.83       1         1\n",
       "164          165     Panula, Master. Eino Viljami  1.00       1         0\n",
       "172          173     Johnson, Miss. Eleanor Ileen  1.00       1         1\n",
       "183          184        Becker, Master. Richard F  1.00       1         1\n",
       "305          306   Allison, Master. Hudson Trevor  0.92       1         1\n",
       "381          382      Nakid, Miss. Maria (\"Mary\")  1.00       1         1\n",
       "386          387  Goodwin, Master. Sidney Leonard  1.00       1         0\n",
       "469          470    Baclini, Miss. Helene Barbara  0.75       1         1\n",
       "644          645           Baclini, Miss. Eugenie  0.75       1         1\n",
       "755          756        Hamalainen, Master. Viljo  0.67       1         1\n",
       "788          789       Dean, Master. Bertram Vere  1.00       1         1\n",
       "803          804  Thomas, Master. Assad Alexander  0.42       1         1\n",
       "827          828            Mallet, Master. Andre  1.00       1         1\n",
       "831          832  Richards, Master. George Sibley  0.83       1         1"
      ]
     },
     "execution_count": 18,
     "metadata": {},
     "output_type": "execute_result"
    }
   ],
   "source": [
    "data_df.loc[data_df['Infant'] == 1, ['PassengerId', 'Name', 'Age', 'Infant', 'Survived']]"
   ]
  },
  {
   "cell_type": "code",
   "execution_count": 19,
   "id": "346e4011-66f7-4700-abfc-89bb51a14c10",
   "metadata": {},
   "outputs": [
    {
     "data": {
      "text/plain": [
       "F_onewayResult(statistic=np.float64(1.2919324381394264), pvalue=np.float64(0.2560822005263004))"
      ]
     },
     "execution_count": 19,
     "metadata": {},
     "output_type": "execute_result"
    }
   ],
   "source": [
    "sp.stats.f_oneway(\n",
    "    data_df.loc[\n",
    "        (data_df['Survived'] == 0) \\\n",
    "            & (data_df['Infant'] != 1) \\\n",
    "            & (~data_df['Age'].isna()),\n",
    "        'Age'\n",
    "    ],\n",
    "    data_df.loc[\n",
    "        (data_df['Survived'] == 1) \\\n",
    "            & (data_df['Infant'] != 1) \\\n",
    "            & (~data_df['Age'].isna()),\n",
    "        'Age'\n",
    "    ]\n",
    ")"
   ]
  },
  {
   "cell_type": "markdown",
   "id": "f7ffd5cc-4f28-4a2e-b9d2-fd2e937647d9",
   "metadata": {},
   "source": [
    "To further complicate matters, about a 5th of the population is missing an Age."
   ]
  },
  {
   "cell_type": "code",
   "execution_count": 20,
   "id": "e1d56ce0-ff2e-4d72-8c29-aaa7edef5a93",
   "metadata": {},
   "outputs": [
    {
     "data": {
      "text/plain": [
       "0.19865319865319866"
      ]
     },
     "execution_count": 20,
     "metadata": {},
     "output_type": "execute_result"
    }
   ],
   "source": [
    "sum(data_df['Age'].isna()) / data_df.shape[0]"
   ]
  },
  {
   "cell_type": "markdown",
   "id": "c9563b4f-90ab-47b9-bf92-3e3706cb0e27",
   "metadata": {},
   "source": [
    "On its face, Age does not seem like the best feature to use. However, since we are training a deep learning algorithm. There may be more complex relationships with age and survival rate when factoring in things like sex, family members, etc.\n",
    "<br><br>\n",
    "Also, in an attempt to help the model infer more from what is observed in Age, we can also add a seperate binary feature that only acitvates when we don't know the age. The hope with this new feature is that when combined with other features, the model can infer more about the information about the passengers at the hidden layers."
   ]
  },
  {
   "cell_type": "code",
   "execution_count": 21,
   "id": "35ff2cc3-d102-425d-8fec-9363d2e47dc4",
   "metadata": {},
   "outputs": [],
   "source": [
    "data_df['AgeMissing'] = 0\n",
    "data_df.loc[data_df['Age'].isna(), 'AgeMissing'] = 1"
   ]
  },
  {
   "cell_type": "code",
   "execution_count": 22,
   "id": "3e533671-b72a-4ac2-b8db-b372699ccc5a",
   "metadata": {},
   "outputs": [
    {
     "data": {
      "text/html": [
       "<div>\n",
       "<style scoped>\n",
       "    .dataframe tbody tr th:only-of-type {\n",
       "        vertical-align: middle;\n",
       "    }\n",
       "\n",
       "    .dataframe tbody tr th {\n",
       "        vertical-align: top;\n",
       "    }\n",
       "\n",
       "    .dataframe thead th {\n",
       "        text-align: right;\n",
       "    }\n",
       "</style>\n",
       "<table border=\"1\" class=\"dataframe\">\n",
       "  <thead>\n",
       "    <tr style=\"text-align: right;\">\n",
       "      <th></th>\n",
       "      <th>count</th>\n",
       "      <th>survival_rate</th>\n",
       "    </tr>\n",
       "    <tr>\n",
       "      <th>AgeMissing</th>\n",
       "      <th></th>\n",
       "      <th></th>\n",
       "    </tr>\n",
       "  </thead>\n",
       "  <tbody>\n",
       "    <tr>\n",
       "      <th>0</th>\n",
       "      <td>714</td>\n",
       "      <td>0.406162</td>\n",
       "    </tr>\n",
       "    <tr>\n",
       "      <th>1</th>\n",
       "      <td>177</td>\n",
       "      <td>0.293785</td>\n",
       "    </tr>\n",
       "  </tbody>\n",
       "</table>\n",
       "</div>"
      ],
      "text/plain": [
       "            count  survival_rate\n",
       "AgeMissing                      \n",
       "0             714       0.406162\n",
       "1             177       0.293785"
      ]
     },
     "execution_count": 22,
     "metadata": {},
     "output_type": "execute_result"
    }
   ],
   "source": [
    "data_df.groupby('AgeMissing').agg(count=('PassengerId', 'count'), survival_rate=('Survived', 'mean'))"
   ]
  },
  {
   "cell_type": "code",
   "execution_count": 23,
   "id": "2f718be3-5646-45e3-a0ab-8bce8bfd764b",
   "metadata": {},
   "outputs": [
    {
     "data": {
      "text/html": [
       "<div>\n",
       "<style scoped>\n",
       "    .dataframe tbody tr th:only-of-type {\n",
       "        vertical-align: middle;\n",
       "    }\n",
       "\n",
       "    .dataframe tbody tr th {\n",
       "        vertical-align: top;\n",
       "    }\n",
       "\n",
       "    .dataframe thead th {\n",
       "        text-align: right;\n",
       "    }\n",
       "</style>\n",
       "<table border=\"1\" class=\"dataframe\">\n",
       "  <thead>\n",
       "    <tr style=\"text-align: right;\">\n",
       "      <th>AgeMissing</th>\n",
       "      <th>0</th>\n",
       "      <th>1</th>\n",
       "    </tr>\n",
       "    <tr>\n",
       "      <th>Survived</th>\n",
       "      <th></th>\n",
       "      <th></th>\n",
       "    </tr>\n",
       "  </thead>\n",
       "  <tbody>\n",
       "    <tr>\n",
       "      <th>0</th>\n",
       "      <td>424.0</td>\n",
       "      <td>125.0</td>\n",
       "    </tr>\n",
       "    <tr>\n",
       "      <th>1</th>\n",
       "      <td>290.0</td>\n",
       "      <td>52.0</td>\n",
       "    </tr>\n",
       "  </tbody>\n",
       "</table>\n",
       "</div>"
      ],
      "text/plain": [
       "AgeMissing      0      1\n",
       "Survived                \n",
       "0           424.0  125.0\n",
       "1           290.0   52.0"
      ]
     },
     "execution_count": 23,
     "metadata": {},
     "output_type": "execute_result"
    }
   ],
   "source": [
    "age_missing_pivot_table = pd.pivot_table(\n",
    "    data_df.groupby(\n",
    "        ['AgeMissing', 'Survived'],as_index=False\n",
    "    ).agg(count=('PassengerId', 'count')),\n",
    "    index='Survived',\n",
    "    columns='AgeMissing',\n",
    "    values='count'\n",
    ")\n",
    "age_missing_pivot_table"
   ]
  },
  {
   "cell_type": "code",
   "execution_count": 24,
   "id": "86640ba9-7f2c-47cf-afa5-efceac1f9808",
   "metadata": {},
   "outputs": [
    {
     "data": {
      "text/plain": [
       "Chi2ContingencyResult(statistic=np.float64(7.10597508442256), pvalue=np.float64(0.007682742096212262), dof=1, expected_freq=array([[439.93939394, 109.06060606],\n",
       "       [274.06060606,  67.93939394]]))"
      ]
     },
     "execution_count": 24,
     "metadata": {},
     "output_type": "execute_result"
    }
   ],
   "source": [
    "sp.stats.chi2_contingency(age_missing_pivot_table)"
   ]
  },
  {
   "cell_type": "markdown",
   "id": "b51247dc-fe92-40df-9bac-433f415faaf2",
   "metadata": {},
   "source": [
    "Dividing Age by median age to help stabelize the gradient when training. This will also balance the age feature around 1, so filling in nulls with -1 will allow the model to observe a better distinction between ages that are missing and ages that are not."
   ]
  },
  {
   "cell_type": "code",
   "execution_count": 25,
   "id": "2666dc25-2c0f-48d9-ba40-f5754eb4ca21",
   "metadata": {},
   "outputs": [
    {
     "data": {
      "text/plain": [
       "np.float64(28.0)"
      ]
     },
     "execution_count": 25,
     "metadata": {},
     "output_type": "execute_result"
    }
   ],
   "source": [
    "data_df['Age'].median()"
   ]
  },
  {
   "cell_type": "code",
   "execution_count": 26,
   "id": "9423290a-7429-43fc-b106-a51a4efc710d",
   "metadata": {},
   "outputs": [],
   "source": [
    "data_df['AgeMed'] = (data_df['Age'] / 28).fillna(-1)"
   ]
  },
  {
   "cell_type": "code",
   "execution_count": 27,
   "id": "755d2b76-cedd-48cb-ae85-a6b4515baa0d",
   "metadata": {},
   "outputs": [
    {
     "data": {
      "text/plain": [
       "<Axes: >"
      ]
     },
     "execution_count": 27,
     "metadata": {},
     "output_type": "execute_result"
    },
    {
     "data": {
      "image/png": "[encoded data removed]",
      "text/plain": [
       "<Figure size 640x480 with 1 Axes>"
      ]
     },
     "metadata": {},
     "output_type": "display_data"
    }
   ],
   "source": [
    "data_df['AgeMed'].hist()"
   ]
  },
  {
   "cell_type": "markdown",
   "id": "2440b9ee-e356-44b4-85fb-33dd156948c5",
   "metadata": {},
   "source": [
    "# Dataset Preparation"
   ]
  },
  {
   "cell_type": "markdown",
   "id": "9b3c2955-c666-4196-88af-768bfd8e658a",
   "metadata": {},
   "source": [
    "### Streamlining Feature Engineering"
   ]
  },
  {
   "cell_type": "markdown",
   "id": "f4384eba-b92c-47b4-b3f7-9d5562c70f0f",
   "metadata": {},
   "source": [
    "Function for running feature engineering discussed in the above section.<br><br>\n",
    "I've kept this method defined outside of the dataset function for data exploration and debugging purposes."
   ]
  },
  {
   "cell_type": "code",
   "execution_count": 116,
   "id": "42ae3d82-c3b6-4972-ab96-f3191ea66f03",
   "metadata": {},
   "outputs": [],
   "source": [
    "def titanic_feature_engineering(titanic_df):\n",
    "    \"\"\"\n",
    "    Convenience function for processing all feature engineering.\n",
    "    This helps me keep feature engineering consistent across testing\n",
    "    and training datasets.\n",
    "    \"\"\"\n",
    "    # copying original Data Frame to preserve its original format and \n",
    "    # representions\n",
    "    fe_df = titanic_df.copy()\n",
    "\n",
    "    # Prefix\n",
    "    prefix = fe_df['Name'].str.extract(r', (.*?)\\.')[0]\n",
    "    prefix = prefix.replace(\n",
    "        {\n",
    "            'Mlle': 'Miss',\n",
    "            'Mme': 'Miss',\n",
    "            'Ms': 'Miss',\n",
    "            'Don': 'Mr'\n",
    "        }\n",
    "    )\n",
    "    prefix[~prefix.isin(['Mr', 'Mrs', 'Miss', 'Master'])] = 'Other'\n",
    "    fe_df['Prefix'] = prefix\n",
    "\n",
    "    # CabinLetter\n",
    "    fe_df['CabinLetter'] = fe_df['Cabin'].str[0]\n",
    "\n",
    "    # FareLog2\n",
    "    fare_0_mask = fe_df['Fare'] == 0\n",
    "    fe_df['FareLog2'] = 0.0\n",
    "    fe_df.loc[~fare_0_mask, 'FareLog2'] = np.log2(\n",
    "        fe_df.loc[~fare_0_mask, 'Fare']\n",
    "    )\n",
    "\n",
    "    # Fare Median\n",
    "    fe_df['FareMed'] = fe_df['Fare'] / 14.4542\n",
    "\n",
    "    # AgeMissing\n",
    "    fe_df['AgeMissing'] = 0\n",
    "    fe_df.loc[fe_df['Age'].isna(), 'AgeMissing'] = 1\n",
    "\n",
    "    # AgeMed\n",
    "    fe_df['AgeMed'] = (fe_df['Age'] / 28).fillna(-1)\n",
    "\n",
    "    # Infant\n",
    "    fe_df['Infant'] = (fe_df['Age'] <= 1).astype(int)\n",
    "    \n",
    "    # expanding categorical features to on-hot-encoded vectors\n",
    "    for col in ['CabinLetter', 'Embarked', 'Sex', 'Pclass', 'Prefix']:\n",
    "        fe_df = pd.concat(\n",
    "            (\n",
    "                fe_df, pd.get_dummies(\n",
    "                    fe_df[col], prefix=col, dtype=int, dummy_na=True\n",
    "                )\n",
    "            ), axis=1\n",
    "        )\n",
    "\n",
    "    # dropping dummy nan columns for features that don't have nan's\n",
    "    fe_df = fe_df.drop(columns=['Sex_nan','Pclass_nan','Prefix_nan'])\n",
    "    return fe_df"
   ]
  },
  {
   "cell_type": "markdown",
   "id": "15b6038a-d383-4658-8a5e-b80e7ce97d34",
   "metadata": {},
   "source": [
    "### Defining Dataset Object for Titanic"
   ]
  },
  {
   "cell_type": "markdown",
   "id": "ce4ac370-9401-4592-a81c-453d57955c6f",
   "metadata": {},
   "source": [
    "Using PyTorch's builtin Dataset Objects. <br><br>\n",
    "On the surface, all you need to know is that loading the Titanic data into these object strealines common operations like batch randomization, feature selection, model evaluation, etc.<br>\n",
    "Feel free to take a closer look, but TitanicDataset and Dataloader are fundamantally convenience classes for managing the data.<br><br>\n",
    "It's worth noting that I have an upsampling method in this class. Only 1/3 of the training population survived, so at training the model will show a bias towards non-survival with no upsampling."
   ]
  },
  {
   "cell_type": "code",
   "execution_count": 117,
   "id": "01da3cf1-6f2e-46f0-b38a-a0a320520e2d",
   "metadata": {},
   "outputs": [],
   "source": [
    "class TitanicDataset(Dataset):\n",
    "    X: torch.tensor\n",
    "    y: torch.tensor\n",
    "    \n",
    "    def __init__(\n",
    "        self, data, target_cols=['Survived'],\n",
    "        feature_cols=[], device=torch.device('cpu')\n",
    "    ):\n",
    "        self.data = data\n",
    "        self.device = device\n",
    "        self.target_cols = target_cols\n",
    "        self.feature_cols = feature_cols\n",
    "\n",
    "        # define all meta data columns as all columns that are not\n",
    "        # listed as target or feature data\n",
    "        self.meta_cols = [\n",
    "            col for col in self.data.columns\n",
    "            if col not in self.target_cols + self.feature_cols\n",
    "        ]\n",
    "\n",
    "        self._set_X()\n",
    "        self._set_y()\n",
    "\n",
    "    def _set_X(self):\n",
    "        self.X = torch.FloatTensor(\n",
    "            self.data[self.feature_cols].to_numpy()\n",
    "        ).to(self.device)\n",
    "\n",
    "    def _set_y(self):\n",
    "        self.y = torch.FloatTensor(\n",
    "            pd.get_dummies(self.data['Survived']).to_numpy()\n",
    "        ).to(self.device)\n",
    "\n",
    "    def evaluate(self, model):\n",
    "        \"\"\"\n",
    "        Convenience function for evaluating the model's performance.\n",
    "        \"\"\"\n",
    "        y_pred = model(self.X).argmax(1)\n",
    "        y_true = self.y.argmax(1)\n",
    "        accuracy = (y_pred == y_true).sum() / len(y_true)\n",
    "        tp = ((y_pred == 1) & (y_true == 1)).sum()\n",
    "        fp = ((y_pred == 1) & (y_true == 0)).sum()\n",
    "        fn = ((y_pred == 0) & (y_true == 1)).sum()\n",
    "        precision = tp / (tp + fp)\n",
    "        recall = tp / (tp + fn)\n",
    "        return {\n",
    "            'accuracy': accuracy.item(),\n",
    "            'precision': precision.item(),\n",
    "            'recall': recall.item()\n",
    "        }\n",
    "\n",
    "    def balance_target(self, random_state=None):\n",
    "        \"\"\"\n",
    "        Helper function for balancing Survived and Non-Survived classes.\n",
    "        If not invoked, training will show a bias towards Non-Survived class\n",
    "        since only about 1/3 of the training data are in the survived class.\n",
    "        \"\"\"\n",
    "        died_data = self.data[self.data['Survived'] == 0]\n",
    "        survided_data = self.data[self.data['Survived'] == 1]\n",
    "        survided_data = resample(\n",
    "            survided_data, n_samples=died_data.shape[0], random_state=random_state\n",
    "        )\n",
    "        self.data = pd.concat((died_data, survided_data))\n",
    "        self._set_X()\n",
    "        self._set_y()\n",
    "        \n",
    "    def _swap_value(self, val, l1, l2):\n",
    "        \"\"\"\n",
    "        internal function for swaping data between lists.\n",
    "        \"\"\"\n",
    "        l1.append(l2.pop(l2.index(val)))\n",
    "        return l1, l2\n",
    "\n",
    "    def add_features(self, features):\n",
    "        \"\"\"\n",
    "        Utility function for adding features from the columns labelled\n",
    "        as meta-data\n",
    "        \"\"\"\n",
    "        if isinstance(features, str):\n",
    "            features = [features]\n",
    "        for feature in features:\n",
    "            if feature not in self.meta_cols + self.feature_cols:\n",
    "                raise ValueError(f'{feature} not in Feature or Meta Data Columns')\n",
    "            if feature in self.meta_cols:\n",
    "                self.feature_cols, self.meta_cols = self._swap_value(\n",
    "                    feature, self.feature_cols, self.meta_cols\n",
    "                )\n",
    "        self._set_X()\n",
    "\n",
    "    def remove_features(self, features):\n",
    "        \"\"\"\n",
    "        Utility function for removing columns from features and adding \n",
    "        them as meta-data\n",
    "        \"\"\"\n",
    "        if isinstance(features, str):\n",
    "            features = [features]\n",
    "        for feature in features:\n",
    "            if feature not in self.feature_cols:\n",
    "                raise ValueError(f'{feature} not in Meta Data Columns')\n",
    "            self.meta_cols, self.feature_cols = self._swap_value(\n",
    "                feature, self.meta_cols, self.feature_cols\n",
    "            )\n",
    "        self._set_X()\n",
    "    \n",
    "    def __len__(self):\n",
    "        return self.data.shape[0]\n",
    "\n",
    "    def __getitem__(self, idx):\n",
    "        return self.X[idx], self.y[idx]"
   ]
  },
  {
   "cell_type": "markdown",
   "id": "efea479c-14d0-4835-b805-08782dc4fe80",
   "metadata": {},
   "source": [
    "# Model Prototyping"
   ]
  },
  {
   "cell_type": "code",
   "execution_count": 118,
   "id": "257b8dc2-376a-4612-924b-32dd38fc7a79",
   "metadata": {},
   "outputs": [],
   "source": [
    "fe_titanic_df = titanic_feature_engineering(\n",
    "    pd.read_csv(Path('train.csv'))\n",
    ")"
   ]
  },
  {
   "cell_type": "code",
   "execution_count": 121,
   "id": "14301a45-3658-453d-978d-1119be35109a",
   "metadata": {},
   "outputs": [],
   "source": [
    "seed_no = 250331"
   ]
  },
  {
   "cell_type": "code",
   "execution_count": 122,
   "id": "a6e976ed-d9d7-41fd-af88-9037dac77668",
   "metadata": {},
   "outputs": [],
   "source": [
    "train_df, test_df = train_test_split(fe_titanic_df, train_size=0.8, random_state=seed_no)"
   ]
  },
  {
   "cell_type": "markdown",
   "id": "b2266f38-189d-4cbc-8cec-77fdd2c6c9f9",
   "metadata": {},
   "source": [
    "## Modelling"
   ]
  },
  {
   "cell_type": "markdown",
   "id": "029a50fa-5143-4bc7-b6fc-6c206df30980",
   "metadata": {},
   "source": [
    "This is where various model and feature permutations were run and analyized. This isn't the actual modelling code, but I'm leaving this section in to show my process and reuse it in case I revisit this challenge."
   ]
  },
  {
   "cell_type": "code",
   "execution_count": 127,
   "id": "0a7e31f6-c8a3-4588-ac96-6f2238fc0f18",
   "metadata": {},
   "outputs": [],
   "source": [
    "def round_accuracies(metrics, r):\n",
    "    \"\"\"rounds accuracies of metrics for readability in the console\"\"\"\n",
    "    ret = {}\n",
    "    for metric, val in metrics.items():\n",
    "        ret[metric] = round(val, r)\n",
    "    return ret"
   ]
  },
  {
   "cell_type": "code",
   "execution_count": 128,
   "id": "cf40eb60-c59d-4d97-807c-a1530b52758a",
   "metadata": {},
   "outputs": [],
   "source": [
    "def log_metrics(metrics_df, model_name, epoch, lr, loss, train_metrics=None, validation_metrics=None):\n",
    "    \"\"\"\n",
    "    Helper function for tracking and comparing training runs.\n",
    "    \"\"\"\n",
    "    record = {'model_name': model_name, 'learning_rate': lr, 'epoch': epoch, 'avg_loss': loss}\n",
    "    if train_metrics:\n",
    "        for key, val in train_metrics.items():\n",
    "            record['train_'+key] = val\n",
    "    if validation_metrics:\n",
    "        for key, val in validation_metrics.items():\n",
    "            record['validation_'+key] = val\n",
    "    record = pd.DataFrame(pd.Series(record)).T\n",
    "    metrics_df = pd.concat((metrics_df, record)).reset_index(drop=True)\n",
    "    return metrics_df"
   ]
  },
  {
   "cell_type": "code",
   "execution_count": 156,
   "id": "25ba4714-2d8f-4ec8-935f-88206175ce2d",
   "metadata": {},
   "outputs": [],
   "source": [
    "# metrics table to store and compare runs\n",
    "metrics_df = pd.DataFrame(columns=[\n",
    "        'model_name', 'learning_rate', 'avg_loss', 'train_accuracy',\n",
    "        'train_precision', 'train_recall', 'validation_accuracy', \n",
    "        'validation_precision', 'validation_recall'\n",
    "    ]\n",
    ")"
   ]
  },
  {
   "cell_type": "code",
   "execution_count": 130,
   "id": "61a79885-fb03-4a4f-82c4-34d544cfc846",
   "metadata": {},
   "outputs": [],
   "source": [
    "device = torch.device('cpu')"
   ]
  },
  {
   "cell_type": "code",
   "execution_count": 131,
   "id": "b3773296-f7b2-4e21-b9fa-c56fbb4814b4",
   "metadata": {},
   "outputs": [
    {
     "data": {
      "text/plain": [
       "<torch._C.Generator at 0x252ffd5e0b0>"
      ]
     },
     "execution_count": 131,
     "metadata": {},
     "output_type": "execute_result"
    }
   ],
   "source": [
    "torch.manual_seed(seed_no)"
   ]
  },
  {
   "cell_type": "code",
   "execution_count": 571,
   "id": "2cf4366f-b368-4ecb-bf33-b597d1b00860",
   "metadata": {},
   "outputs": [],
   "source": [
    "# baseline meta data columns; exclude features that either show little \n",
    "# promise in a standard linear model or require abstract transformations\n",
    "# i.e. FareLog2\n",
    "baseline = [\n",
    "    'SibSp', 'Parch', 'FareMed', 'AgeMissing', 'Infant',\n",
    "    'CabinLetter_A', 'CabinLetter_B', 'CabinLetter_C', 'CabinLetter_D',\n",
    "    'CabinLetter_E', 'CabinLetter_F', 'CabinLetter_G', 'CabinLetter_T',\n",
    "    'CabinLetter_nan', 'Embarked_C', 'Embarked_Q', 'Embarked_S',\n",
    "    'Embarked_nan', 'Sex_female', 'Sex_male', 'Pclass_1.0', 'Pclass_2.0',\n",
    "    'Pclass_3.0', 'Prefix_Master', 'Prefix_Miss', 'Prefix_Mr', 'Prefix_Mrs',\n",
    "    'Prefix_Other'\n",
    "]\n",
    "baseline_drop_nan = [\n",
    "    'SibSp', 'Parch', 'FareMed', 'AgeMissing', 'Infant',\n",
    "    'CabinLetter_A', 'CabinLetter_B', 'CabinLetter_C', 'CabinLetter_D',\n",
    "    'CabinLetter_E', 'CabinLetter_F', 'CabinLetter_G', 'CabinLetter_T',\n",
    "    'Embarked_C', 'Embarked_Q', 'Embarked_S', 'Sex_female', 'Sex_male',\n",
    "    'Pclass_1.0', 'Pclass_2.0', 'Pclass_3.0', 'Prefix_Master', 'Prefix_Miss',\n",
    "    'Prefix_Mr', 'Prefix_Mrs', 'Prefix_Other'\n",
    "]\n",
    "# same as baseline except replacing FareMed with FareLog2 \n",
    "baseline_farelog2 = [\n",
    "    'SibSp', 'Parch', 'FareLog2', 'AgeMissing', 'Infant',\n",
    "    'CabinLetter_A', 'CabinLetter_B', 'CabinLetter_C', 'CabinLetter_D',\n",
    "    'CabinLetter_E', 'CabinLetter_F', 'CabinLetter_G', 'CabinLetter_T',\n",
    "    'CabinLetter_nan', 'Embarked_C', 'Embarked_Q', 'Embarked_S',\n",
    "    'Embarked_nan', 'Sex_female', 'Sex_male', 'Pclass_1.0', 'Pclass_2.0',\n",
    "    'Pclass_3.0', 'Prefix_Master', 'Prefix_Miss', 'Prefix_Mr', 'Prefix_Mrs',\n",
    "    'Prefix_Other'\n",
    "]\n",
    "# replace Infant and AgeMissing with AgeMed; the NN may be able to identify\n",
    "# some non-linear relationships with entire age range\n",
    "full_age = [\n",
    "    'SibSp', 'Parch', 'FareLog2', 'AgeMed',\n",
    "    'CabinLetter_A', 'CabinLetter_B', 'CabinLetter_C', 'CabinLetter_D',\n",
    "    'CabinLetter_E', 'CabinLetter_F', 'CabinLetter_G', 'CabinLetter_T',\n",
    "    'CabinLetter_nan', 'Embarked_C', 'Embarked_Q', 'Embarked_S',\n",
    "    'Embarked_nan', 'Sex_female', 'Sex_male', 'Pclass_1.0', 'Pclass_2.0',\n",
    "    'Pclass_3.0', 'Prefix_Master', 'Prefix_Miss', 'Prefix_Mr', 'Prefix_Mrs',\n",
    "    'Prefix_Other'\n",
    "]\n",
    "fe_cols = baseline"
   ]
  },
  {
   "cell_type": "code",
   "execution_count": 572,
   "id": "291dcc6a-7d44-4a87-9136-db0cab291b71",
   "metadata": {},
   "outputs": [],
   "source": [
    "train_dataset = TitanicDataset(\n",
    "    train_df, \n",
    "    feature_cols=fe_cols,\n",
    "    device=device\n",
    ")\n",
    "train_dataset.balance_target(random_state=seed_no)\n",
    "test_dataset = TitanicDataset(\n",
    "    test_df, \n",
    "    feature_cols=fe_cols,\n",
    "    device=device\n",
    ")"
   ]
  },
  {
   "cell_type": "code",
   "execution_count": 573,
   "id": "645d150c-dd0b-43ab-960e-a4eeef89f61e",
   "metadata": {},
   "outputs": [],
   "source": [
    "training_titanic_dataloader = DataLoader(train_dataset, batch_size=125, shuffle=True)"
   ]
  },
  {
   "cell_type": "code",
   "execution_count": 574,
   "id": "8354bc55-c41e-45e5-b9b7-140ac14264e1",
   "metadata": {},
   "outputs": [],
   "source": [
    "class TitanicNN(nn.Module):\n",
    "    def __init__(self, input_w, width, depth, model_name='model_name'):\n",
    "        super().__init__()\n",
    "        self.depth = depth\n",
    "        self.width = width\n",
    "        self.in_layer = nn.Linear(input_w, self.width)\n",
    "        for i in range(self.depth):\n",
    "            self.__setattr__(f'layer{i+1}', nn.Linear(self.width, self.width))\n",
    "        self.out_layer = nn.Linear(self.width, 2)\n",
    "        self.relu = nn.ReLU()\n",
    "        self.tanh = nn.Tanh()\n",
    "        self.name = '_'.join([model_name, str(width), str(depth)])\n",
    "\n",
    "    def forward(self, x):\n",
    "        x = self.in_layer(x)\n",
    "        for i in range(self.depth):\n",
    "            x = self.relu(self.__getattr__(f'layer{i+1}')(x))\n",
    "        x = self.tanh(self.out_layer(x))\n",
    "        return x"
   ]
  },
  {
   "cell_type": "code",
   "execution_count": 575,
   "id": "471ade6d-a022-4e42-99df-7a8caa488d38",
   "metadata": {},
   "outputs": [],
   "source": [
    "class TitanicDrouputNN(nn.Module):\n",
    "    def __init__(self, input_w, width, depth, dropout=0.25, model_name='model_name'):\n",
    "        super().__init__()\n",
    "        self.depth = depth\n",
    "        self.width = width\n",
    "        self.in_layer = nn.Linear(input_w, self.width)\n",
    "        for i in range(self.depth):\n",
    "            self.__setattr__(f'layer{i+1}', nn.Linear(self.width, self.width))\n",
    "        self.out_layer = nn.Linear(self.width, 2)\n",
    "        self.relu = nn.ReLU()\n",
    "        self.tanh = nn.Tanh()\n",
    "        self.dropout = nn.Dropout(dropout)\n",
    "        self.name = '_'.join([model_name, str(width), str(depth), 'dropout'+str(dropout)])\n",
    "\n",
    "    def forward(self, x):\n",
    "        x = self.in_layer(x)\n",
    "        for i in range(self.depth):\n",
    "            x = self.relu(self.__getattr__(f'layer{i+1}')(x))\n",
    "            x = self.dropout(x)\n",
    "        x = self.tanh(self.out_layer(x))\n",
    "        return x"
   ]
  },
  {
   "cell_type": "code",
   "execution_count": 596,
   "id": "f7c9c845-8475-40be-9186-805f8c98b089",
   "metadata": {},
   "outputs": [],
   "source": [
    "model = TitanicDrouputNN(28, 140, 5, dropout=.3, model_name='final1')\n",
    "model.to(device)\n",
    "name = model.name"
   ]
  },
  {
   "cell_type": "code",
   "execution_count": 597,
   "id": "98ca8fc1-013d-4ede-82bd-868f1e8673f6",
   "metadata": {},
   "outputs": [],
   "source": [
    "true_epoch = 0"
   ]
  },
  {
   "cell_type": "code",
   "execution_count": 608,
   "id": "81b6d34b-4047-4335-9b16-833b8f056a0c",
   "metadata": {},
   "outputs": [],
   "source": [
    "lr = 0.0001\n",
    "loss_fn = nn.CrossEntropyLoss()\n",
    "optimizer = torch.optim.SGD(model.parameters(), lr=lr, momentum=.9)"
   ]
  },
  {
   "cell_type": "code",
   "execution_count": 609,
   "id": "d3e37468-3895-4df7-9202-dcef648d930f",
   "metadata": {},
   "outputs": [
    {
     "name": "stdout",
     "output_type": "stream",
     "text": [
      "Loss: 0.33517766   Train: {'accuracy': 0.875862, 'precision': 0.911839, 'recall': 0.832184}   Test: {'accuracy': 0.821229, 'precision': 0.779661, 'recall': 0.707692}\n",
      "Loss: 0.35135607   Train: {'accuracy': 0.885057, 'precision': 0.915633, 'recall': 0.848276}   Test: {'accuracy': 0.821229, 'precision': 0.8, 'recall': 0.676923}\n",
      "Loss: 0.34023984   Train: {'accuracy': 0.870115, 'precision': 0.900497, 'recall': 0.832184}   Test: {'accuracy': 0.815642, 'precision': 0.775862, 'recall': 0.692308}\n",
      "Loss: 0.34652678   Train: {'accuracy': 0.878161, 'precision': 0.916456, 'recall': 0.832184}   Test: {'accuracy': 0.826816, 'precision': 0.803571, 'recall': 0.692308}\n",
      "Loss: 0.34865061   Train: {'accuracy': 0.881609, 'precision': 0.925641, 'recall': 0.829885}   Test: {'accuracy': 0.832402, 'precision': 0.818182, 'recall': 0.692308}\n"
     ]
    }
   ],
   "source": [
    "epochs = 100\n",
    "for e in range(epochs):\n",
    "    epoch_losses = []\n",
    "    for X, y in training_titanic_dataloader:\n",
    "        pred = model.forward(X)\n",
    "        loss = loss_fn(pred, y)\n",
    "        epoch_losses.append(loss.item())\n",
    "        loss.backward()\n",
    "        optimizer.step()\n",
    "        optimizer.zero_grad()\n",
    "    avg_loss = sum(epoch_losses)/len(epoch_losses)\n",
    "    if e % 20 == 0:\n",
    "        true_epoch += e\n",
    "        training_metrics = train_dataset.evaluate(model)\n",
    "        validation_metrics = test_dataset.evaluate(model)\n",
    "        metrics_df = log_metrics(\n",
    "            metrics_df, name, true_epoch, lr, avg_loss,\n",
    "            train_metrics=training_metrics, validation_metrics=validation_metrics\n",
    "        )\n",
    "        print(f'Loss: {round(avg_loss, 8)}   Train: {round_accuracies(training_metrics, 6)}   Test: {round_accuracies(validation_metrics, 6)}')"
   ]
  },
  {
   "cell_type": "code",
   "execution_count": 610,
   "id": "a2b580df-4429-49de-a979-26326fba2774",
   "metadata": {},
   "outputs": [
    {
     "data": {
      "text/plain": [
       "[<matplotlib.lines.Line2D at 0x252afead810>]"
      ]
     },
     "execution_count": 610,
     "metadata": {},
     "output_type": "execute_result"
    },
    {
     "data": {
      "image/png": "[encoded data removed]",
      "text/plain": [
       "<Figure size 640x480 with 1 Axes>"
      ]
     },
     "metadata": {},
     "output_type": "display_data"
    }
   ],
   "source": [
    "plt.plot(metrics_df.loc[metrics_df['model_name'] == name, 'avg_loss'])"
   ]
  },
  {
   "cell_type": "markdown",
   "id": "60709a4c-1dd8-4c99-b4ba-3b683643ecdb",
   "metadata": {},
   "source": [
    "## Conculsions"
   ]
  },
  {
   "cell_type": "markdown",
   "id": "e40dd7a2-8c3f-41e8-9c8d-931107c934f7",
   "metadata": {},
   "source": [
    "After running several permutations, I've settled on sticking to the baseline feature sets with a depth of 4 and width of 100. There's definitely more feature sets and models I can try, but I feel this is good enough for now."
   ]
  },
  {
   "cell_type": "code",
   "execution_count": 468,
   "id": "9f4135ac-37f9-4c14-b899-3454dd7e0a5c",
   "metadata": {},
   "outputs": [
    {
     "data": {
      "text/html": [
       "<div>\n",
       "<style scoped>\n",
       "    .dataframe tbody tr th:only-of-type {\n",
       "        vertical-align: middle;\n",
       "    }\n",
       "\n",
       "    .dataframe tbody tr th {\n",
       "        vertical-align: top;\n",
       "    }\n",
       "\n",
       "    .dataframe thead th {\n",
       "        text-align: right;\n",
       "    }\n",
       "</style>\n",
       "<table border=\"1\" class=\"dataframe\">\n",
       "  <thead>\n",
       "    <tr style=\"text-align: right;\">\n",
       "      <th></th>\n",
       "      <th>avg_loss</th>\n",
       "      <th>validation_accuracy</th>\n",
       "      <th>validation_precision</th>\n",
       "      <th>validation_recall</th>\n",
       "      <th>train_accuracy</th>\n",
       "    </tr>\n",
       "    <tr>\n",
       "      <th>model_name</th>\n",
       "      <th></th>\n",
       "      <th></th>\n",
       "      <th></th>\n",
       "      <th></th>\n",
       "      <th></th>\n",
       "    </tr>\n",
       "  </thead>\n",
       "  <tbody>\n",
       "    <tr>\n",
       "      <th>AgeMed_drop_nans_140_5_dropout0.3</th>\n",
       "      <td>0.297118</td>\n",
       "      <td>0.810056</td>\n",
       "      <td>0.77193</td>\n",
       "      <td>0.676923</td>\n",
       "      <td>0.906897</td>\n",
       "    </tr>\n",
       "    <tr>\n",
       "      <th>baseline_100_3_dropout0.3</th>\n",
       "      <td>0.335278</td>\n",
       "      <td>0.815642</td>\n",
       "      <td>0.796296</td>\n",
       "      <td>0.661538</td>\n",
       "      <td>0.887356</td>\n",
       "    </tr>\n",
       "    <tr>\n",
       "      <th>baseline_100_4_dropout0.3</th>\n",
       "      <td>0.318848</td>\n",
       "      <td>0.837989</td>\n",
       "      <td>0.821429</td>\n",
       "      <td>0.707692</td>\n",
       "      <td>0.895402</td>\n",
       "    </tr>\n",
       "    <tr>\n",
       "      <th>baseline_100_5_dropout0.3</th>\n",
       "      <td>0.35037</td>\n",
       "      <td>0.815642</td>\n",
       "      <td>0.766667</td>\n",
       "      <td>0.707692</td>\n",
       "      <td>0.872414</td>\n",
       "    </tr>\n",
       "    <tr>\n",
       "      <th>baseline_140_4_0.3</th>\n",
       "      <td>0.322588</td>\n",
       "      <td>0.832402</td>\n",
       "      <td>0.818182</td>\n",
       "      <td>0.692308</td>\n",
       "      <td>0.9</td>\n",
       "    </tr>\n",
       "    <tr>\n",
       "      <th>baseline_140_5_dropout0.3</th>\n",
       "      <td>0.3346</td>\n",
       "      <td>0.837989</td>\n",
       "      <td>0.8</td>\n",
       "      <td>0.738462</td>\n",
       "      <td>0.891954</td>\n",
       "    </tr>\n",
       "    <tr>\n",
       "      <th>baseline_30_1</th>\n",
       "      <td>0.386803</td>\n",
       "      <td>0.759777</td>\n",
       "      <td>0.671875</td>\n",
       "      <td>0.661538</td>\n",
       "      <td>0.824138</td>\n",
       "    </tr>\n",
       "    <tr>\n",
       "      <th>baseline_30_2</th>\n",
       "      <td>0.363516</td>\n",
       "      <td>0.798883</td>\n",
       "      <td>0.723077</td>\n",
       "      <td>0.723077</td>\n",
       "      <td>0.85977</td>\n",
       "    </tr>\n",
       "    <tr>\n",
       "      <th>baseline_60_2</th>\n",
       "      <td>0.314433</td>\n",
       "      <td>0.798883</td>\n",
       "      <td>0.773585</td>\n",
       "      <td>0.630769</td>\n",
       "      <td>0.901149</td>\n",
       "    </tr>\n",
       "    <tr>\n",
       "      <th>baseline_60_2_dropout0.2</th>\n",
       "      <td>0.336506</td>\n",
       "      <td>0.782123</td>\n",
       "      <td>0.724138</td>\n",
       "      <td>0.646154</td>\n",
       "      <td>0.875862</td>\n",
       "    </tr>\n",
       "    <tr>\n",
       "      <th>baseline_drop_nans_140_5_dropout0.3</th>\n",
       "      <td>0.333528</td>\n",
       "      <td>0.810056</td>\n",
       "      <td>0.77193</td>\n",
       "      <td>0.676923</td>\n",
       "      <td>0.891954</td>\n",
       "    </tr>\n",
       "    <tr>\n",
       "      <th>farelog2_drop_nans_140_5_dropout0.3</th>\n",
       "      <td>0.352395</td>\n",
       "      <td>0.826816</td>\n",
       "      <td>0.814815</td>\n",
       "      <td>0.676923</td>\n",
       "      <td>0.878161</td>\n",
       "    </tr>\n",
       "  </tbody>\n",
       "</table>\n",
       "</div>"
      ],
      "text/plain": [
       "                                     avg_loss validation_accuracy  \\\n",
       "model_name                                                          \n",
       "AgeMed_drop_nans_140_5_dropout0.3    0.297118            0.810056   \n",
       "baseline_100_3_dropout0.3            0.335278            0.815642   \n",
       "baseline_100_4_dropout0.3            0.318848            0.837989   \n",
       "baseline_100_5_dropout0.3             0.35037            0.815642   \n",
       "baseline_140_4_0.3                   0.322588            0.832402   \n",
       "baseline_140_5_dropout0.3              0.3346            0.837989   \n",
       "baseline_30_1                        0.386803            0.759777   \n",
       "baseline_30_2                        0.363516            0.798883   \n",
       "baseline_60_2                        0.314433            0.798883   \n",
       "baseline_60_2_dropout0.2             0.336506            0.782123   \n",
       "baseline_drop_nans_140_5_dropout0.3  0.333528            0.810056   \n",
       "farelog2_drop_nans_140_5_dropout0.3  0.352395            0.826816   \n",
       "\n",
       "                                    validation_precision validation_recall  \\\n",
       "model_name                                                                   \n",
       "AgeMed_drop_nans_140_5_dropout0.3                0.77193          0.676923   \n",
       "baseline_100_3_dropout0.3                       0.796296          0.661538   \n",
       "baseline_100_4_dropout0.3                       0.821429          0.707692   \n",
       "baseline_100_5_dropout0.3                       0.766667          0.707692   \n",
       "baseline_140_4_0.3                              0.818182          0.692308   \n",
       "baseline_140_5_dropout0.3                            0.8          0.738462   \n",
       "baseline_30_1                                   0.671875          0.661538   \n",
       "baseline_30_2                                   0.723077          0.723077   \n",
       "baseline_60_2                                   0.773585          0.630769   \n",
       "baseline_60_2_dropout0.2                        0.724138          0.646154   \n",
       "baseline_drop_nans_140_5_dropout0.3              0.77193          0.676923   \n",
       "farelog2_drop_nans_140_5_dropout0.3             0.814815          0.676923   \n",
       "\n",
       "                                    train_accuracy  \n",
       "model_name                                          \n",
       "AgeMed_drop_nans_140_5_dropout0.3         0.906897  \n",
       "baseline_100_3_dropout0.3                 0.887356  \n",
       "baseline_100_4_dropout0.3                 0.895402  \n",
       "baseline_100_5_dropout0.3                 0.872414  \n",
       "baseline_140_4_0.3                             0.9  \n",
       "baseline_140_5_dropout0.3                 0.891954  \n",
       "baseline_30_1                             0.824138  \n",
       "baseline_30_2                              0.85977  \n",
       "baseline_60_2                             0.901149  \n",
       "baseline_60_2_dropout0.2                  0.875862  \n",
       "baseline_drop_nans_140_5_dropout0.3       0.891954  \n",
       "farelog2_drop_nans_140_5_dropout0.3       0.878161  "
      ]
     },
     "execution_count": 468,
     "metadata": {},
     "output_type": "execute_result"
    }
   ],
   "source": [
    "metrics_df.groupby('model_name').agg({'avg_loss': 'last', 'validation_accuracy': 'last', 'validation_precision': 'last', 'validation_recall': 'last', 'train_accuracy': 'last'})"
   ]
  },
  {
   "cell_type": "markdown",
   "id": "0c134a93-af63-469a-be05-f1ebba80e6da",
   "metadata": {},
   "source": [
    "# Final Model"
   ]
  },
  {
   "cell_type": "code",
   "execution_count": 488,
   "id": "a6f8ecc2-bdc3-4b59-8b8d-3ea4b93abbdb",
   "metadata": {},
   "outputs": [],
   "source": [
    "train_data = titanic_feature_engineering(pd.read_csv('train.csv'))\n",
    "test_data = titanic_feature_engineering(pd.read_csv('test.csv'))"
   ]
  },
  {
   "cell_type": "code",
   "execution_count": 489,
   "id": "76c4641c-560f-49ab-8e6b-a792fd29169e",
   "metadata": {},
   "outputs": [],
   "source": [
    "train_dataset = TitanicDataset(train_data, feature_cols=baseline)"
   ]
  },
  {
   "cell_type": "code",
   "execution_count": 525,
   "id": "067ce717-56ab-40e8-ac74-8bc02b1e9c4c",
   "metadata": {},
   "outputs": [
    {
     "data": {
      "text/plain": [
       "(torch.Size([891, 28]), (891, 42))"
      ]
     },
     "execution_count": 525,
     "metadata": {},
     "output_type": "execute_result"
    }
   ],
   "source": [
    "train_dataset.X.shape, train_data.shape"
   ]
  },
  {
   "cell_type": "code",
   "execution_count": 498,
   "id": "523bb754-078e-4bbb-973d-d45f0ba0b301",
   "metadata": {},
   "outputs": [],
   "source": [
    "training_titanic_dataloader = DataLoader(train_dataset, batch_size=125, shuffle=True)"
   ]
  },
  {
   "cell_type": "code",
   "execution_count": 529,
   "id": "d235442c-88ff-42ee-8d7c-e6633155cfd8",
   "metadata": {},
   "outputs": [],
   "source": [
    "model = TitanicDrouputNN(28, 100, 4, dropout=.3, model_name='Final Model')\n",
    "model.to(device)\n",
    "name = model.name"
   ]
  },
  {
   "cell_type": "code",
   "execution_count": 530,
   "id": "ebf2b4a8-0d45-4b3d-b9f2-1b21f0c4d947",
   "metadata": {},
   "outputs": [],
   "source": [
    "losses = []"
   ]
  },
  {
   "cell_type": "code",
   "execution_count": 540,
   "id": "3721db11-4774-4fb8-84d7-2a25c633bff2",
   "metadata": {},
   "outputs": [],
   "source": [
    "lr = 0.00001\n",
    "loss_fn = nn.CrossEntropyLoss()\n",
    "optimizer = torch.optim.SGD(model.parameters(), lr=lr, momentum=.9)"
   ]
  },
  {
   "cell_type": "code",
   "execution_count": 545,
   "id": "3031ad99-fc61-43a7-9786-fd86b9822fb3",
   "metadata": {},
   "outputs": [
    {
     "name": "stdout",
     "output_type": "stream",
     "text": [
      "Loss: 0.40106631   Train: {'accuracy': 0.863075, 'precision': 0.87415, 'recall': 0.751462}\n",
      "Loss: 0.3801383   Train: {'accuracy': 0.866442, 'precision': 0.877966, 'recall': 0.75731}\n",
      "Loss: 0.38754681   Train: {'accuracy': 0.859708, 'precision': 0.862876, 'recall': 0.754386}\n",
      "Loss: 0.3938044   Train: {'accuracy': 0.861953, 'precision': 0.876289, 'recall': 0.745614}\n",
      "Loss: 0.38920724   Train: {'accuracy': 0.854097, 'precision': 0.863014, 'recall': 0.736842}\n"
     ]
    }
   ],
   "source": [
    "epochs = 100\n",
    "for e in range(epochs):\n",
    "    epoch_losses = []\n",
    "    for X, y in training_titanic_dataloader:\n",
    "        pred = model.forward(X)\n",
    "        loss = loss_fn(pred, y)\n",
    "        epoch_losses.append(loss.item())\n",
    "        loss.backward()\n",
    "        optimizer.step()\n",
    "        optimizer.zero_grad()\n",
    "    avg_loss = sum(epoch_losses)/len(epoch_losses)\n",
    "    if e % 20 == 0:\n",
    "        losses.append(avg_loss)\n",
    "        training_metrics = train_dataset.evaluate(model)\n",
    "        print(f'Loss: {round(avg_loss, 8)}   Train: {round_accuracies(training_metrics, 6)}')"
   ]
  },
  {
   "cell_type": "markdown",
   "id": "4cb39087-b34e-41d5-a0c1-16428e7636c1",
   "metadata": {},
   "source": [
    "It appears the Model is not converging well. I may need to adjust my approach in future attempts."
   ]
  },
  {
   "cell_type": "code",
   "execution_count": 546,
   "id": "85de5edf-2193-4403-8e6f-00289524dd45",
   "metadata": {},
   "outputs": [
    {
     "data": {
      "text/plain": [
       "[<matplotlib.lines.Line2D at 0x252ae39d810>]"
      ]
     },
     "execution_count": 546,
     "metadata": {},
     "output_type": "execute_result"
    },
    {
     "data": {
      "image/png": "[encoded data removed]",
      "text/plain": [
       "<Figure size 640x480 with 1 Axes>"
      ]
     },
     "metadata": {},
     "output_type": "display_data"
    }
   ],
   "source": [
    "plt.plot(losses)"
   ]
  },
  {
   "cell_type": "markdown",
   "id": "30b81d34-0b3a-4bab-b0eb-400397018fab",
   "metadata": {},
   "source": [
    "# Prediction File"
   ]
  },
  {
   "cell_type": "markdown",
   "id": "e6e2d294-62d3-4ffc-9677-4f88d5bbf5d0",
   "metadata": {},
   "source": [
    "# Test Data Does not have CabinLetter_T\n",
    "test_data['CabinLetter_T'] = 0"
   ]
  },
  {
   "cell_type": "code",
   "execution_count": 611,
   "id": "7d116546-6817-4b27-bd4d-54bf5fb4e7c0",
   "metadata": {},
   "outputs": [],
   "source": [
    "test_data['Survived'] = model(torch.FloatTensor(test_data[baseline].to_numpy())).argmax(1)"
   ]
  },
  {
   "cell_type": "code",
   "execution_count": 612,
   "id": "56e6c871-099a-4f29-89a8-03753a82047c",
   "metadata": {},
   "outputs": [],
   "source": [
    "predictions = test_data[['PassengerId', 'Survived']]"
   ]
  },
  {
   "cell_type": "code",
   "execution_count": 614,
   "id": "ddcb79de-4022-4deb-acb0-13bd82e4aedb",
   "metadata": {},
   "outputs": [],
   "source": [
    "predictions.to_csv('predictions_v2.csv', index=False)"
   ]
  },
  {
   "cell_type": "markdown",
   "id": "244e09f6-3804-4d97-9ca9-85c0e5b79e6a",
   "metadata": {},
   "source": [
    "# Conclusion and Reflections"
   ]
  },
  {
   "cell_type": "markdown",
   "id": "83280ff7-30c6-4712-aa5a-53f355cf861c",
   "metadata": {},
   "source": [
    "Competition score was mediocre (76.3% accuracy). It was clear at training that the neural network was overfitting, and the final competition score further supports that. Neural Networks need a large volume of data to train, and the Titanic Dataset is on the smaller side with a high amount of variance. My next approach will likely involve a model that does not have the volume requirements and overfitting risk that a neural network has."
   ]
  },
  {
   "cell_type": "markdown",
   "id": "cae21db8-2dd5-4d73-a77f-796bd2cee71f",
   "metadata": {},
   "source": [
    "## Feature Engineering Reflections"
   ]
  },
  {
   "cell_type": "markdown",
   "id": "3f1f968d-c9b4-4e03-8098-24f7c01a98b8",
   "metadata": {},
   "source": [
    "I was mainly interested in refreshing my knowledge with the PyTorch deep learning library, so I breezed through the research and feature development. Reflecting on my work, there are quite a few areas that I think can be improved."
   ]
  },
  {
   "cell_type": "markdown",
   "id": "b199205c-d5b6-4a35-b754-08d3ccdd9c97",
   "metadata": {},
   "source": [
    "### Sex & Prefix"
   ]
  },
  {
   "cell_type": "markdown",
   "id": "4d0b5268-07b7-4ab1-906b-f3cb5e993298",
   "metadata": {},
   "source": [
    "Prefix is dependent on Sex. All “Mr” and “Master” are males and all “Mrs” and “Miss” are females. Future attempts will use either Prefix or Sex, not both. "
   ]
  },
  {
   "cell_type": "markdown",
   "id": "3f7c9fa1-064a-4603-9fcd-5b27c59ad8aa",
   "metadata": {},
   "source": [
    "### Fare"
   ]
  },
  {
   "cell_type": "markdown",
   "id": "0c8d968c-19d8-4352-b607-ccb1d4470792",
   "metadata": {},
   "source": [
    "FareLog2 did not improve performance compared to scaling Fare by its median. FareLog2 would perform better for linear models or models that assume normal distribution, but since neural networks can handle non-parametric data, scaling Fare by its median was good enough."
   ]
  },
  {
   "cell_type": "markdown",
   "id": "85516c82-fa2c-488e-8f64-1fc60b7060c7",
   "metadata": {},
   "source": [
    "### Age"
   ]
  },
  {
   "cell_type": "markdown",
   "id": "f26a0b89-e97d-46e0-8228-02b759c0f163",
   "metadata": {},
   "source": [
    "Using the full Age range did not perform well compared to using AgeMissing and Infant. Either the model was not able to find more complex relationships with the other features, or Age is not a useful feature when controlling for infants. It is odd that AgeMssing had showed shown some significance while the full age range did not. Perhaps there is something behind how tickets were logged that correlates with Survival."
   ]
  },
  {
   "cell_type": "markdown",
   "id": "1cc0c028-6c79-4201-b2e5-b8133c2f2aac",
   "metadata": {},
   "source": [
    "## New Feature and Data Exploration Ideas"
   ]
  },
  {
   "cell_type": "markdown",
   "id": "400a364b-f6ca-4330-955e-46abe6a92ed6",
   "metadata": {},
   "source": [
    "### Name"
   ]
  },
  {
   "cell_type": "markdown",
   "id": "11ca5749-9492-40de-b06d-d88be31b434d",
   "metadata": {},
   "source": [
    "There may be more information that can be gathered from Name. For example, if a child has an older Male and/or Female with the same last name, and ParCh supports it, we can assume that child has a mother/father on board. Conversely, we can get a count of the number of children that a parent may have onboard."
   ]
  },
  {
   "cell_type": "markdown",
   "id": "0cdf0d4b-862b-43ef-a149-1c0a7fddfb4b",
   "metadata": {},
   "source": [
    "### Age"
   ]
  },
  {
   "cell_type": "markdown",
   "id": "8b6acb4b-6412-4fb9-8b2b-07cd77bacbc7",
   "metadata": {},
   "source": [
    "There is a lot more potential with Cabin. Using cabin letter and number, we can get an idea of where a passenger may have been located on the ship when it began to sink (i.e. level, starboard, port, etc.). It would be interesting to try to map out survival rate over "
   ]
  }
 ],
 "metadata": {
  "kernelspec": {
   "display_name": "kc-titanic",
   "language": "python",
   "name": "kc-titanic"
  },
  "language_info": {
   "codemirror_mode": {
    "name": "ipython",
    "version": 3
   },
   "file_extension": ".py",
   "mimetype": "text/x-python",
   "name": "python",
   "nbconvert_exporter": "python",
   "pygments_lexer": "ipython3",
   "version": "3.13.2"
  }
 },
 "nbformat": 4,
 "nbformat_minor": 5
}
